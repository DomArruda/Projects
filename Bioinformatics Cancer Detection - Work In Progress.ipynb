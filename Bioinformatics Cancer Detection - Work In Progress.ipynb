{
 "cells": [
  {
   "cell_type": "code",
   "execution_count": 1,
   "id": "acb88175",
   "metadata": {},
   "outputs": [],
   "source": [
    "#data context:\n",
    "\"\"\"\n",
    "https://www.kaggle.com/datasets/brunogrisci/breast-cancer-gene-expression-cumida\n",
    "    \n",
    "\"\"\"\n",
    "\n",
    "\n",
    "\n",
    "\n",
    "import os \n",
    "\n",
    "os.getcwd()\n",
    "dir_ = 'C://Users//Domin/Downloads'\n",
    "os.chdir(dir_)\n",
    "\n",
    "os.getcwd()\n",
    "import pandas as pd\n",
    "import numpy \n",
    "import torch\n",
    "import torch.nn as nn\n",
    "import matplotlib.pyplot as plt\n"
   ]
  },
  {
   "cell_type": "code",
   "execution_count": 2,
   "id": "99e1af5e",
   "metadata": {},
   "outputs": [
    {
     "data": {
      "text/html": [
       "<div>\n",
       "<style scoped>\n",
       "    .dataframe tbody tr th:only-of-type {\n",
       "        vertical-align: middle;\n",
       "    }\n",
       "\n",
       "    .dataframe tbody tr th {\n",
       "        vertical-align: top;\n",
       "    }\n",
       "\n",
       "    .dataframe thead th {\n",
       "        text-align: right;\n",
       "    }\n",
       "</style>\n",
       "<table border=\"1\" class=\"dataframe\">\n",
       "  <thead>\n",
       "    <tr style=\"text-align: right;\">\n",
       "      <th></th>\n",
       "      <th>type</th>\n",
       "      <th>1007_s_at</th>\n",
       "      <th>1053_at</th>\n",
       "      <th>117_at</th>\n",
       "      <th>121_at</th>\n",
       "      <th>1255_g_at</th>\n",
       "      <th>1294_at</th>\n",
       "      <th>1316_at</th>\n",
       "      <th>1320_at</th>\n",
       "      <th>1405_i_at</th>\n",
       "      <th>...</th>\n",
       "      <th>206926_s_at</th>\n",
       "      <th>206927_s_at</th>\n",
       "      <th>206928_at</th>\n",
       "      <th>206929_s_at</th>\n",
       "      <th>206930_at</th>\n",
       "      <th>206931_at</th>\n",
       "      <th>206932_at</th>\n",
       "      <th>206933_s_at</th>\n",
       "      <th>206934_at</th>\n",
       "      <th>206935_at</th>\n",
       "    </tr>\n",
       "  </thead>\n",
       "  <tbody>\n",
       "    <tr>\n",
       "      <th>0</th>\n",
       "      <td>basal</td>\n",
       "      <td>9.850040</td>\n",
       "      <td>8.097927</td>\n",
       "      <td>6.424728</td>\n",
       "      <td>7.353027</td>\n",
       "      <td>3.029122</td>\n",
       "      <td>6.880079</td>\n",
       "      <td>4.963740</td>\n",
       "      <td>4.408328</td>\n",
       "      <td>8.870780</td>\n",
       "      <td>...</td>\n",
       "      <td>6.167506</td>\n",
       "      <td>4.157291</td>\n",
       "      <td>8.463251</td>\n",
       "      <td>8.233774</td>\n",
       "      <td>3.440250</td>\n",
       "      <td>3.249266</td>\n",
       "      <td>4.077760</td>\n",
       "      <td>5.114589</td>\n",
       "      <td>3.649391</td>\n",
       "      <td>3.048597</td>\n",
       "    </tr>\n",
       "    <tr>\n",
       "      <th>1</th>\n",
       "      <td>basal</td>\n",
       "      <td>9.861357</td>\n",
       "      <td>8.212222</td>\n",
       "      <td>7.062593</td>\n",
       "      <td>7.685578</td>\n",
       "      <td>3.149468</td>\n",
       "      <td>7.542283</td>\n",
       "      <td>5.129607</td>\n",
       "      <td>4.584418</td>\n",
       "      <td>7.767646</td>\n",
       "      <td>...</td>\n",
       "      <td>6.016303</td>\n",
       "      <td>3.746938</td>\n",
       "      <td>9.166471</td>\n",
       "      <td>7.922956</td>\n",
       "      <td>2.832078</td>\n",
       "      <td>3.563185</td>\n",
       "      <td>4.457529</td>\n",
       "      <td>4.774928</td>\n",
       "      <td>3.886136</td>\n",
       "      <td>4.945811</td>\n",
       "    </tr>\n",
       "    <tr>\n",
       "      <th>2</th>\n",
       "      <td>basal</td>\n",
       "      <td>10.103478</td>\n",
       "      <td>8.936137</td>\n",
       "      <td>5.735970</td>\n",
       "      <td>7.687822</td>\n",
       "      <td>3.125931</td>\n",
       "      <td>6.562369</td>\n",
       "      <td>4.813449</td>\n",
       "      <td>4.425195</td>\n",
       "      <td>9.417956</td>\n",
       "      <td>...</td>\n",
       "      <td>6.298974</td>\n",
       "      <td>3.818161</td>\n",
       "      <td>8.691060</td>\n",
       "      <td>7.209782</td>\n",
       "      <td>3.371737</td>\n",
       "      <td>3.500604</td>\n",
       "      <td>4.909135</td>\n",
       "      <td>4.619495</td>\n",
       "      <td>3.393670</td>\n",
       "      <td>2.940155</td>\n",
       "    </tr>\n",
       "    <tr>\n",
       "      <th>3</th>\n",
       "      <td>basal</td>\n",
       "      <td>9.756875</td>\n",
       "      <td>7.357148</td>\n",
       "      <td>6.479183</td>\n",
       "      <td>6.986624</td>\n",
       "      <td>3.181638</td>\n",
       "      <td>7.802344</td>\n",
       "      <td>5.490982</td>\n",
       "      <td>4.567956</td>\n",
       "      <td>9.022345</td>\n",
       "      <td>...</td>\n",
       "      <td>5.924285</td>\n",
       "      <td>3.799996</td>\n",
       "      <td>8.519125</td>\n",
       "      <td>7.011523</td>\n",
       "      <td>3.412964</td>\n",
       "      <td>3.716722</td>\n",
       "      <td>4.822208</td>\n",
       "      <td>4.792745</td>\n",
       "      <td>3.619956</td>\n",
       "      <td>2.710000</td>\n",
       "    </tr>\n",
       "    <tr>\n",
       "      <th>4</th>\n",
       "      <td>basal</td>\n",
       "      <td>9.408330</td>\n",
       "      <td>7.746404</td>\n",
       "      <td>6.693980</td>\n",
       "      <td>7.333426</td>\n",
       "      <td>3.169923</td>\n",
       "      <td>7.610457</td>\n",
       "      <td>5.372469</td>\n",
       "      <td>4.424426</td>\n",
       "      <td>9.400056</td>\n",
       "      <td>...</td>\n",
       "      <td>5.984826</td>\n",
       "      <td>4.005609</td>\n",
       "      <td>9.199242</td>\n",
       "      <td>7.460834</td>\n",
       "      <td>3.155281</td>\n",
       "      <td>4.028018</td>\n",
       "      <td>5.705145</td>\n",
       "      <td>4.477804</td>\n",
       "      <td>3.724393</td>\n",
       "      <td>2.829142</td>\n",
       "    </tr>\n",
       "  </tbody>\n",
       "</table>\n",
       "<p>5 rows × 16383 columns</p>\n",
       "</div>"
      ],
      "text/plain": [
       "    type  1007_s_at   1053_at    117_at    121_at  1255_g_at   1294_at  \\\n",
       "0  basal   9.850040  8.097927  6.424728  7.353027   3.029122  6.880079   \n",
       "1  basal   9.861357  8.212222  7.062593  7.685578   3.149468  7.542283   \n",
       "2  basal  10.103478  8.936137  5.735970  7.687822   3.125931  6.562369   \n",
       "3  basal   9.756875  7.357148  6.479183  6.986624   3.181638  7.802344   \n",
       "4  basal   9.408330  7.746404  6.693980  7.333426   3.169923  7.610457   \n",
       "\n",
       "    1316_at   1320_at  1405_i_at  ...  206926_s_at  206927_s_at  206928_at  \\\n",
       "0  4.963740  4.408328   8.870780  ...     6.167506     4.157291   8.463251   \n",
       "1  5.129607  4.584418   7.767646  ...     6.016303     3.746938   9.166471   \n",
       "2  4.813449  4.425195   9.417956  ...     6.298974     3.818161   8.691060   \n",
       "3  5.490982  4.567956   9.022345  ...     5.924285     3.799996   8.519125   \n",
       "4  5.372469  4.424426   9.400056  ...     5.984826     4.005609   9.199242   \n",
       "\n",
       "   206929_s_at  206930_at  206931_at  206932_at  206933_s_at  206934_at  \\\n",
       "0     8.233774   3.440250   3.249266   4.077760     5.114589   3.649391   \n",
       "1     7.922956   2.832078   3.563185   4.457529     4.774928   3.886136   \n",
       "2     7.209782   3.371737   3.500604   4.909135     4.619495   3.393670   \n",
       "3     7.011523   3.412964   3.716722   4.822208     4.792745   3.619956   \n",
       "4     7.460834   3.155281   4.028018   5.705145     4.477804   3.724393   \n",
       "\n",
       "   206935_at  \n",
       "0   3.048597  \n",
       "1   4.945811  \n",
       "2   2.940155  \n",
       "3   2.710000  \n",
       "4   2.829142  \n",
       "\n",
       "[5 rows x 16383 columns]"
      ]
     },
     "execution_count": 2,
     "metadata": {},
     "output_type": "execute_result"
    }
   ],
   "source": [
    "data = pd.read_csv('breast_cancer_bioinformatics.csv')\n",
    "\n",
    "#lets do a little exploratory analysis \n",
    "\n",
    "data.dropna(axis = 1)\n",
    "data.head()\n",
    "\n",
    "#Over 16,000 genes !!! "
   ]
  },
  {
   "cell_type": "code",
   "execution_count": 3,
   "id": "0b2ddc75",
   "metadata": {
    "scrolled": true
   },
   "outputs": [
    {
     "data": {
      "text/plain": [
       "basal        41\n",
       "HER          30\n",
       "luminal_B    30\n",
       "luminal_A    29\n",
       "cell_line    14\n",
       "normal        7\n",
       "Name: type, dtype: int64"
      ]
     },
     "execution_count": 3,
     "metadata": {},
     "output_type": "execute_result"
    }
   ],
   "source": [
    "\n",
    "\n",
    "from sklearn.compose import ColumnTransformer\n",
    "from sklearn.pipeline import Pipeline\n",
    "from sklearn.impute import SimpleImputer\n",
    "from sklearn.preprocessing import StandardScaler\n",
    "from sklearn.preprocessing import OneHotEncoder\n",
    "from sklearn.preprocessing import LabelEncoder \n",
    "labeler = LabelEncoder()\n",
    "y = data['type'] \n",
    "x = data.drop(['type'], axis = 1) \n",
    " \n",
    "\n",
    "\n",
    "scaler = StandardScaler()\n",
    "y.value_counts()\n",
    "\n",
    "#six dimensions "
   ]
  },
  {
   "cell_type": "code",
   "execution_count": null,
   "id": "ed7bb070",
   "metadata": {
    "scrolled": true
   },
   "outputs": [],
   "source": []
  },
  {
   "cell_type": "code",
   "execution_count": null,
   "id": "3c47470e",
   "metadata": {},
   "outputs": [],
   "source": []
  },
  {
   "cell_type": "code",
   "execution_count": 4,
   "id": "eb219b7d",
   "metadata": {},
   "outputs": [],
   "source": [
    "from sklearn.model_selection import train_test_split\n",
    "X_train, X_test, y_train, y_test = train_test_split(x, y, test_size = 0.20, random_state = 24)\n",
    "\n",
    "y_train = labeler.fit_transform(y_train)\n",
    "y_test = labeler.fit_transform(y_test)\n",
    "\n"
   ]
  },
  {
   "cell_type": "code",
   "execution_count": 5,
   "id": "42b6c2e5",
   "metadata": {},
   "outputs": [],
   "source": [
    "X_train = scaler.fit_transform(X_train)\n",
    "X_test = scaler.fit_transform(X_test)\n",
    "\n",
    "\n",
    "\n",
    "X_train = torch.FloatTensor(X_train)\n",
    "X_test = torch.FloatTensor(X_test)\n",
    "y_train = torch.LongTensor(y_train)\n",
    "y_test = torch.LongTensor(y_test)"
   ]
  },
  {
   "cell_type": "code",
   "execution_count": null,
   "id": "4e9b8b2a",
   "metadata": {},
   "outputs": [],
   "source": []
  },
  {
   "cell_type": "code",
   "execution_count": 6,
   "id": "2585a98a",
   "metadata": {},
   "outputs": [],
   "source": [
    "#modified version - borrowed some code and modified for the functions\n",
    "\n",
    "\n",
    "class NeuralNetworkClassificationModel(nn.Module):\n",
    "    def __init__(self,input_dim,output_dim):\n",
    "        super(NeuralNetworkClassificationModel,self).__init__()\n",
    "        self.input_layer    = nn.Linear(input_dim,300)\n",
    "        self.hidden_layer1  = nn.Linear(300,64)\n",
    "        self.output_layer   = nn.Linear(64,output_dim)\n",
    "        self.relu = nn.ReLU()\n",
    "    \n",
    "    \n",
    "    def forward(self,x):\n",
    "        out =  self.relu(self.input_layer(x))\n",
    "        out =  self.relu(self.hidden_layer1(out))\n",
    "        out =  self.output_layer(out)\n",
    "        return out\n",
    "    \n"
   ]
  },
  {
   "cell_type": "code",
   "execution_count": 7,
   "id": "c6c3b327",
   "metadata": {},
   "outputs": [],
   "source": [
    "\n",
    "input_dim  = 16382\n",
    "output_dim = 6\n",
    "model = NeuralNetworkClassificationModel(input_dim,output_dim)"
   ]
  },
  {
   "cell_type": "code",
   "execution_count": 8,
   "id": "75a0c1a7",
   "metadata": {},
   "outputs": [],
   "source": [
    "# creating our optimizer and loss function object\n",
    "learning_rate = 0.0001\n",
    "criterion = nn.CrossEntropyLoss()\n",
    "optimizer = torch.optim.Adam(model.parameters(),lr=learning_rate)"
   ]
  },
  {
   "cell_type": "code",
   "execution_count": 9,
   "id": "ec583d97",
   "metadata": {},
   "outputs": [],
   "source": [
    "import numpy as np "
   ]
  },
  {
   "cell_type": "code",
   "execution_count": 10,
   "id": "351c4ebd",
   "metadata": {},
   "outputs": [],
   "source": [
    "def train_network(model,optimizer,criterion,X_train,y_train,X_test,y_test,num_epochs,train_losses,test_losses):\n",
    "    for epoch in range(num_epochs):\n",
    "        #clear out the gradients from the last step loss.backward()\n",
    "        optimizer.zero_grad()\n",
    "        \n",
    "        #forward feed\n",
    "        output_train = model(X_train)\n",
    "\n",
    "        #calculate the loss\n",
    "        loss_train = criterion(output_train, y_train)\n",
    "        \n",
    "\n",
    "\n",
    "        #backward propagation: calculate gradients\n",
    "        loss_train.backward()\n",
    "\n",
    "        #update the weights\n",
    "        optimizer.step()\n",
    "\n",
    "        \n",
    "        output_test = model(X_test)\n",
    "        loss_test = criterion(output_test,y_test)\n",
    "\n",
    "        train_losses[epoch] = loss_train.item()\n",
    "        test_losses[epoch] = loss_test.item()\n",
    "\n",
    "        if (epoch + 1) % 50 == 0:\n",
    "            print(f\"Epoch {epoch+1}/{num_epochs}, Train Loss: {loss_train.item():.4f}, Test Loss: {loss_test.item():.4f}\")"
   ]
  },
  {
   "cell_type": "code",
   "execution_count": 11,
   "id": "fa45b27f",
   "metadata": {},
   "outputs": [],
   "source": [
    "num_epochs = 1000\n",
    "train_losses = np.zeros(num_epochs)\n",
    "test_losses  = np.zeros(num_epochs)"
   ]
  },
  {
   "cell_type": "code",
   "execution_count": 12,
   "id": "7e184b6f",
   "metadata": {},
   "outputs": [
    {
     "name": "stdout",
     "output_type": "stream",
     "text": [
      "Epoch 50/1000, Train Loss: 0.0020, Test Loss: 0.2080\n",
      "Epoch 100/1000, Train Loss: 0.0009, Test Loss: 0.2055\n",
      "Epoch 150/1000, Train Loss: 0.0006, Test Loss: 0.2045\n",
      "Epoch 200/1000, Train Loss: 0.0004, Test Loss: 0.2042\n",
      "Epoch 250/1000, Train Loss: 0.0003, Test Loss: 0.2039\n",
      "Epoch 300/1000, Train Loss: 0.0003, Test Loss: 0.2035\n",
      "Epoch 350/1000, Train Loss: 0.0002, Test Loss: 0.2033\n",
      "Epoch 400/1000, Train Loss: 0.0002, Test Loss: 0.2028\n",
      "Epoch 450/1000, Train Loss: 0.0001, Test Loss: 0.2024\n",
      "Epoch 500/1000, Train Loss: 0.0001, Test Loss: 0.2019\n",
      "Epoch 550/1000, Train Loss: 0.0001, Test Loss: 0.2014\n",
      "Epoch 600/1000, Train Loss: 0.0001, Test Loss: 0.2016\n",
      "Epoch 650/1000, Train Loss: 0.0001, Test Loss: 0.2017\n",
      "Epoch 700/1000, Train Loss: 0.0001, Test Loss: 0.2019\n",
      "Epoch 750/1000, Train Loss: 0.0001, Test Loss: 0.2022\n",
      "Epoch 800/1000, Train Loss: 0.0001, Test Loss: 0.2025\n",
      "Epoch 850/1000, Train Loss: 0.0000, Test Loss: 0.2028\n",
      "Epoch 900/1000, Train Loss: 0.0000, Test Loss: 0.2031\n",
      "Epoch 950/1000, Train Loss: 0.0000, Test Loss: 0.2033\n",
      "Epoch 1000/1000, Train Loss: 0.0000, Test Loss: 0.2036\n"
     ]
    }
   ],
   "source": [
    "train_network(model,optimizer,criterion,X_train,y_train,X_test,y_test,num_epochs,train_losses,test_losses)"
   ]
  },
  {
   "cell_type": "code",
   "execution_count": 13,
   "id": "f05a65fc",
   "metadata": {},
   "outputs": [],
   "source": [
    "predictions_train = []\n",
    "predictions_test =  []\n",
    "with torch.no_grad():\n",
    "    predictions_train = model(X_train)\n",
    "    predictions_test = model(X_test)"
   ]
  },
  {
   "cell_type": "code",
   "execution_count": 14,
   "id": "0e273458",
   "metadata": {},
   "outputs": [],
   "source": [
    "def get_accuracy_multiclass(pred_arr,original_arr):\n",
    "    if len(pred_arr)!=len(original_arr):\n",
    "        return False\n",
    "    pred_arr = pred_arr.numpy()\n",
    "    original_arr = original_arr.numpy()\n",
    "    final_pred= []\n",
    "  \n",
    "    for i in range(len(pred_arr)):\n",
    "        final_pred.append(np.argmax(pred_arr[i]))\n",
    "    final_pred = np.array(final_pred)\n",
    "    count = 0\n",
    "    #here we are doing a simple comparison between the predicted_arr and the original_arr to get the final accuracy\n",
    "    for i in range(len(original_arr)):\n",
    "        if final_pred[i] == original_arr[i]:\n",
    "            count+=1\n",
    "    return count/len(final_pred)"
   ]
  },
  {
   "cell_type": "code",
   "execution_count": 15,
   "id": "474cc557",
   "metadata": {},
   "outputs": [],
   "source": [
    "train_acc = get_accuracy_multiclass(predictions_train,y_train)\n",
    "test_acc  = get_accuracy_multiclass(predictions_test,y_test)"
   ]
  },
  {
   "cell_type": "code",
   "execution_count": 16,
   "id": "feaf5c4c",
   "metadata": {},
   "outputs": [
    {
     "name": "stdout",
     "output_type": "stream",
     "text": [
      "Training Accuracy: 100.0\n",
      "Test Accuracy: 93.548\n"
     ]
    }
   ],
   "source": [
    "print(f\"Training Accuracy: {round(train_acc*100,3)}\")\n",
    "print(f\"Test Accuracy: {round(test_acc*100,3)}\")"
   ]
  },
  {
   "cell_type": "code",
   "execution_count": 17,
   "id": "dc67bda3",
   "metadata": {},
   "outputs": [],
   "source": [
    "#nice, we got 93% accuracy! "
   ]
  },
  {
   "cell_type": "code",
   "execution_count": 18,
   "id": "c865881a",
   "metadata": {},
   "outputs": [],
   "source": [
    "#lets see what we would have gotten with a Logistic Regression algorithm "
   ]
  },
  {
   "cell_type": "code",
   "execution_count": 19,
   "id": "2a9f5561",
   "metadata": {},
   "outputs": [],
   "source": [
    "X_train = X_train.numpy()\n",
    "X_test = X_test.numpy()\n",
    "y_train = y_train.numpy()\n",
    "y_test = y_test.numpy()"
   ]
  },
  {
   "cell_type": "code",
   "execution_count": null,
   "id": "754af46e",
   "metadata": {},
   "outputs": [],
   "source": []
  },
  {
   "cell_type": "code",
   "execution_count": 20,
   "id": "709cd5c2",
   "metadata": {},
   "outputs": [],
   "source": [
    "import matplotlib.pyplot as plt\n",
    "from sklearn.linear_model import LogisticRegression\n"
   ]
  },
  {
   "cell_type": "code",
   "execution_count": 21,
   "id": "6fe3b0ad",
   "metadata": {},
   "outputs": [
    {
     "name": "stderr",
     "output_type": "stream",
     "text": [
      "C:\\Users\\Domin\\anaconda3\\lib\\site-packages\\sklearn\\linear_model\\_logistic.py:763: ConvergenceWarning: lbfgs failed to converge (status=1):\n",
      "STOP: TOTAL NO. of ITERATIONS REACHED LIMIT.\n",
      "\n",
      "Increase the number of iterations (max_iter) or scale the data as shown in:\n",
      "    https://scikit-learn.org/stable/modules/preprocessing.html\n",
      "Please also refer to the documentation for alternative solver options:\n",
      "    https://scikit-learn.org/stable/modules/linear_model.html#logistic-regression\n",
      "  n_iter_i = _check_optimize_result(\n"
     ]
    },
    {
     "data": {
      "text/plain": [
       "LogisticRegression()"
      ]
     },
     "execution_count": 21,
     "metadata": {},
     "output_type": "execute_result"
    }
   ],
   "source": [
    "log_model = LogisticRegression()\n",
    "log_model.fit(X_train,y_train)"
   ]
  },
  {
   "cell_type": "code",
   "execution_count": 22,
   "id": "179606bd",
   "metadata": {},
   "outputs": [
    {
     "name": "stdout",
     "output_type": "stream",
     "text": [
      "\n",
      "Model Score:  0.9354838709677419 \n",
      "\n"
     ]
    }
   ],
   "source": [
    "\n",
    "y_pred = log_model.predict(X_test)\n",
    "\n",
    "print('\\nModel Score: ',log_model.score(X_test, y_test),'\\n')"
   ]
  },
  {
   "cell_type": "code",
   "execution_count": 23,
   "id": "e5cebe13",
   "metadata": {},
   "outputs": [],
   "source": [
    "#interesting - it got a very similar score! \n",
    "\n",
    "\n",
    "# get importance - if possible\n",
    "importance = log_model.coef_[0]\n",
    "gene_names = x.columns\n",
    "gene_list, importance_list = [], []\n",
    "    \n",
    "for i,v in enumerate(importance):\n",
    "    gene_list.append(x.columns[i])\n",
    "    importance_list.append(importance[i])"
   ]
  },
  {
   "cell_type": "code",
   "execution_count": null,
   "id": "656cc551",
   "metadata": {},
   "outputs": [],
   "source": []
  },
  {
   "cell_type": "code",
   "execution_count": 24,
   "id": "2afc0e54",
   "metadata": {},
   "outputs": [
    {
     "data": {
      "text/html": [
       "<div>\n",
       "<style scoped>\n",
       "    .dataframe tbody tr th:only-of-type {\n",
       "        vertical-align: middle;\n",
       "    }\n",
       "\n",
       "    .dataframe tbody tr th {\n",
       "        vertical-align: top;\n",
       "    }\n",
       "\n",
       "    .dataframe thead th {\n",
       "        text-align: right;\n",
       "    }\n",
       "</style>\n",
       "<table border=\"1\" class=\"dataframe\">\n",
       "  <thead>\n",
       "    <tr style=\"text-align: right;\">\n",
       "      <th></th>\n",
       "    </tr>\n",
       "  </thead>\n",
       "  <tbody>\n",
       "  </tbody>\n",
       "</table>\n",
       "</div>"
      ],
      "text/plain": [
       "Empty DataFrame\n",
       "Columns: []\n",
       "Index: []"
      ]
     },
     "execution_count": 24,
     "metadata": {},
     "output_type": "execute_result"
    }
   ],
   "source": [
    "df = pd.DataFrame()\n",
    "df"
   ]
  },
  {
   "cell_type": "code",
   "execution_count": 25,
   "id": "9d5664f7",
   "metadata": {},
   "outputs": [
    {
     "data": {
      "text/html": [
       "<div>\n",
       "<style scoped>\n",
       "    .dataframe tbody tr th:only-of-type {\n",
       "        vertical-align: middle;\n",
       "    }\n",
       "\n",
       "    .dataframe tbody tr th {\n",
       "        vertical-align: top;\n",
       "    }\n",
       "\n",
       "    .dataframe thead th {\n",
       "        text-align: right;\n",
       "    }\n",
       "</style>\n",
       "<table border=\"1\" class=\"dataframe\">\n",
       "  <thead>\n",
       "    <tr style=\"text-align: right;\">\n",
       "      <th></th>\n",
       "      <th>Genes</th>\n",
       "      <th>Importance</th>\n",
       "    </tr>\n",
       "  </thead>\n",
       "  <tbody>\n",
       "    <tr>\n",
       "      <th>0</th>\n",
       "      <td>1007_s_at</td>\n",
       "      <td>0.001400</td>\n",
       "    </tr>\n",
       "    <tr>\n",
       "      <th>1</th>\n",
       "      <td>1053_at</td>\n",
       "      <td>0.000018</td>\n",
       "    </tr>\n",
       "    <tr>\n",
       "      <th>2</th>\n",
       "      <td>117_at</td>\n",
       "      <td>-0.003272</td>\n",
       "    </tr>\n",
       "    <tr>\n",
       "      <th>3</th>\n",
       "      <td>121_at</td>\n",
       "      <td>0.001003</td>\n",
       "    </tr>\n",
       "    <tr>\n",
       "      <th>4</th>\n",
       "      <td>1255_g_at</td>\n",
       "      <td>0.001907</td>\n",
       "    </tr>\n",
       "  </tbody>\n",
       "</table>\n",
       "</div>"
      ],
      "text/plain": [
       "       Genes  Importance\n",
       "0  1007_s_at    0.001400\n",
       "1    1053_at    0.000018\n",
       "2     117_at   -0.003272\n",
       "3     121_at    0.001003\n",
       "4  1255_g_at    0.001907"
      ]
     },
     "execution_count": 25,
     "metadata": {},
     "output_type": "execute_result"
    }
   ],
   "source": [
    "df['Genes'] = gene_list\n",
    "df['Importance'] = importance\n",
    "df.head()"
   ]
  },
  {
   "cell_type": "code",
   "execution_count": 26,
   "id": "e7a47a95",
   "metadata": {},
   "outputs": [
    {
     "data": {
      "text/html": [
       "<div>\n",
       "<style scoped>\n",
       "    .dataframe tbody tr th:only-of-type {\n",
       "        vertical-align: middle;\n",
       "    }\n",
       "\n",
       "    .dataframe tbody tr th {\n",
       "        vertical-align: top;\n",
       "    }\n",
       "\n",
       "    .dataframe thead th {\n",
       "        text-align: right;\n",
       "    }\n",
       "</style>\n",
       "<table border=\"1\" class=\"dataframe\">\n",
       "  <thead>\n",
       "    <tr style=\"text-align: right;\">\n",
       "      <th></th>\n",
       "      <th>Genes</th>\n",
       "      <th>Importance</th>\n",
       "    </tr>\n",
       "  </thead>\n",
       "  <tbody>\n",
       "    <tr>\n",
       "      <th>12440</th>\n",
       "      <td>202991_at</td>\n",
       "      <td>0.009588</td>\n",
       "    </tr>\n",
       "    <tr>\n",
       "      <th>10655</th>\n",
       "      <td>201207_at</td>\n",
       "      <td>0.008557</td>\n",
       "    </tr>\n",
       "    <tr>\n",
       "      <th>4951</th>\n",
       "      <td>1559697_a_at</td>\n",
       "      <td>0.008429</td>\n",
       "    </tr>\n",
       "    <tr>\n",
       "      <th>8537</th>\n",
       "      <td>1566968_at</td>\n",
       "      <td>0.008417</td>\n",
       "    </tr>\n",
       "    <tr>\n",
       "      <th>7911</th>\n",
       "      <td>1565635_at</td>\n",
       "      <td>0.008409</td>\n",
       "    </tr>\n",
       "    <tr>\n",
       "      <th>13770</th>\n",
       "      <td>204323_x_at</td>\n",
       "      <td>0.008304</td>\n",
       "    </tr>\n",
       "    <tr>\n",
       "      <th>16239</th>\n",
       "      <td>206793_at</td>\n",
       "      <td>0.008074</td>\n",
       "    </tr>\n",
       "    <tr>\n",
       "      <th>14356</th>\n",
       "      <td>204909_at</td>\n",
       "      <td>0.007992</td>\n",
       "    </tr>\n",
       "    <tr>\n",
       "      <th>5422</th>\n",
       "      <td>1560556_a_at</td>\n",
       "      <td>0.007920</td>\n",
       "    </tr>\n",
       "    <tr>\n",
       "      <th>13772</th>\n",
       "      <td>204325_s_at</td>\n",
       "      <td>0.007708</td>\n",
       "    </tr>\n",
       "  </tbody>\n",
       "</table>\n",
       "</div>"
      ],
      "text/plain": [
       "              Genes  Importance\n",
       "12440     202991_at    0.009588\n",
       "10655     201207_at    0.008557\n",
       "4951   1559697_a_at    0.008429\n",
       "8537     1566968_at    0.008417\n",
       "7911     1565635_at    0.008409\n",
       "13770   204323_x_at    0.008304\n",
       "16239     206793_at    0.008074\n",
       "14356     204909_at    0.007992\n",
       "5422   1560556_a_at    0.007920\n",
       "13772   204325_s_at    0.007708"
      ]
     },
     "execution_count": 26,
     "metadata": {},
     "output_type": "execute_result"
    }
   ],
   "source": [
    "#now lets get the ten most 'important' genes \n",
    "df = df.sort_values(by = 'Importance', ascending = False)\n",
    "df\n",
    "#now let's snip these genes \n",
    "\n",
    "df = df.iloc[0:10]\n",
    "df\n",
    "\n"
   ]
  },
  {
   "cell_type": "code",
   "execution_count": null,
   "id": "89e91d8c",
   "metadata": {},
   "outputs": [],
   "source": []
  }
 ],
 "metadata": {
  "kernelspec": {
   "display_name": "Python 3 (ipykernel)",
   "language": "python",
   "name": "python3"
  },
  "language_info": {
   "codemirror_mode": {
    "name": "ipython",
    "version": 3
   },
   "file_extension": ".py",
   "mimetype": "text/x-python",
   "name": "python",
   "nbconvert_exporter": "python",
   "pygments_lexer": "ipython3",
   "version": "3.9.7"
  },
  "varInspector": {
   "cols": {
    "lenName": 16,
    "lenType": 16,
    "lenVar": 40
   },
   "kernels_config": {
    "python": {
     "delete_cmd_postfix": "",
     "delete_cmd_prefix": "del ",
     "library": "var_list.py",
     "varRefreshCmd": "print(var_dic_list())"
    },
    "r": {
     "delete_cmd_postfix": ") ",
     "delete_cmd_prefix": "rm(",
     "library": "var_list.r",
     "varRefreshCmd": "cat(var_dic_list()) "
    }
   },
   "oldHeight": 698.3870000000001,
   "position": {
    "height": "39.9937px",
    "left": "1505.94px",
    "right": "20px",
    "top": "130.95px",
    "width": "743.344px"
   },
   "types_to_exclude": [
    "module",
    "function",
    "builtin_function_or_method",
    "instance",
    "_Feature"
   ],
   "varInspector_section_display": "none",
   "window_display": true
  }
 },
 "nbformat": 4,
 "nbformat_minor": 5
}
