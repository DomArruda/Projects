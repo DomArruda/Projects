{
 "cells": [
  {
   "cell_type": "code",
   "execution_count": 1,
   "id": "11669363",
   "metadata": {},
   "outputs": [],
   "source": [
    "#lets try to predict dementia using a longitudinal dataset "
   ]
  },
  {
   "cell_type": "code",
   "execution_count": 2,
   "id": "bf8d1f24",
   "metadata": {},
   "outputs": [],
   "source": [
    "\n",
    "import numpy as np\n",
    "from sklearn.tree import DecisionTreeClassifier\n",
    "import pandas as pd"
   ]
  },
  {
   "cell_type": "code",
   "execution_count": 3,
   "id": "12c05fc2",
   "metadata": {},
   "outputs": [],
   "source": [
    "data  = pd.read_csv('oasis_longitudinal.csv')"
   ]
  },
  {
   "cell_type": "code",
   "execution_count": 4,
   "id": "79482f5f",
   "metadata": {},
   "outputs": [
    {
     "name": "stdout",
     "output_type": "stream",
     "text": [
      "    Subject ID        Group  Visit  MR Delay M/F Hand  Age  EDUC  SES  MMSE  \\\n",
      "0    OAS2_0001  Nondemented      1         0   M    R   87    14  2.0  27.0   \n",
      "1    OAS2_0001  Nondemented      2       457   M    R   88    14  2.0  30.0   \n",
      "2    OAS2_0002     Demented      1         0   M    R   75    12  NaN  23.0   \n",
      "3    OAS2_0002     Demented      2       560   M    R   76    12  NaN  28.0   \n",
      "4    OAS2_0002     Demented      3      1895   M    R   80    12  NaN  22.0   \n",
      "..         ...          ...    ...       ...  ..  ...  ...   ...  ...   ...   \n",
      "368  OAS2_0185     Demented      2       842   M    R   82    16  1.0  28.0   \n",
      "369  OAS2_0185     Demented      3      2297   M    R   86    16  1.0  26.0   \n",
      "370  OAS2_0186  Nondemented      1         0   F    R   61    13  2.0  30.0   \n",
      "371  OAS2_0186  Nondemented      2       763   F    R   63    13  2.0  30.0   \n",
      "372  OAS2_0186  Nondemented      3      1608   F    R   65    13  2.0  30.0   \n",
      "\n",
      "     CDR  eTIV   nWBV    ASF  \n",
      "0    0.0  1987  0.696  0.883  \n",
      "1    0.0  2004  0.681  0.876  \n",
      "2    0.5  1678  0.736  1.046  \n",
      "3    0.5  1738  0.713  1.010  \n",
      "4    0.5  1698  0.701  1.034  \n",
      "..   ...   ...    ...    ...  \n",
      "368  0.5  1693  0.694  1.037  \n",
      "369  0.5  1688  0.675  1.040  \n",
      "370  0.0  1319  0.801  1.331  \n",
      "371  0.0  1327  0.796  1.323  \n",
      "372  0.0  1333  0.801  1.317  \n",
      "\n",
      "[373 rows x 14 columns]\n"
     ]
    }
   ],
   "source": [
    "print(data)"
   ]
  },
  {
   "cell_type": "code",
   "execution_count": 5,
   "id": "34a3045a",
   "metadata": {},
   "outputs": [],
   "source": [
    "#lets do some classification "
   ]
  },
  {
   "cell_type": "code",
   "execution_count": 6,
   "id": "4671e333",
   "metadata": {},
   "outputs": [],
   "source": [
    "#dropping some unecessary values"
   ]
  },
  {
   "cell_type": "code",
   "execution_count": 7,
   "id": "23670bdd",
   "metadata": {},
   "outputs": [],
   "source": [
    "data = data.drop(['Subject ID'], axis = 1)"
   ]
  },
  {
   "cell_type": "code",
   "execution_count": 8,
   "id": "3f19b111",
   "metadata": {},
   "outputs": [
    {
     "data": {
      "text/html": [
       "<div>\n",
       "<style scoped>\n",
       "    .dataframe tbody tr th:only-of-type {\n",
       "        vertical-align: middle;\n",
       "    }\n",
       "\n",
       "    .dataframe tbody tr th {\n",
       "        vertical-align: top;\n",
       "    }\n",
       "\n",
       "    .dataframe thead th {\n",
       "        text-align: right;\n",
       "    }\n",
       "</style>\n",
       "<table border=\"1\" class=\"dataframe\">\n",
       "  <thead>\n",
       "    <tr style=\"text-align: right;\">\n",
       "      <th></th>\n",
       "      <th>Group</th>\n",
       "      <th>Visit</th>\n",
       "      <th>MR Delay</th>\n",
       "      <th>M/F</th>\n",
       "      <th>Hand</th>\n",
       "      <th>Age</th>\n",
       "      <th>EDUC</th>\n",
       "      <th>SES</th>\n",
       "      <th>MMSE</th>\n",
       "      <th>CDR</th>\n",
       "      <th>eTIV</th>\n",
       "      <th>nWBV</th>\n",
       "      <th>ASF</th>\n",
       "    </tr>\n",
       "  </thead>\n",
       "  <tbody>\n",
       "    <tr>\n",
       "      <th>0</th>\n",
       "      <td>Nondemented</td>\n",
       "      <td>1</td>\n",
       "      <td>0</td>\n",
       "      <td>M</td>\n",
       "      <td>R</td>\n",
       "      <td>87</td>\n",
       "      <td>14</td>\n",
       "      <td>2.0</td>\n",
       "      <td>27.0</td>\n",
       "      <td>0.0</td>\n",
       "      <td>1987</td>\n",
       "      <td>0.696</td>\n",
       "      <td>0.883</td>\n",
       "    </tr>\n",
       "    <tr>\n",
       "      <th>1</th>\n",
       "      <td>Nondemented</td>\n",
       "      <td>2</td>\n",
       "      <td>457</td>\n",
       "      <td>M</td>\n",
       "      <td>R</td>\n",
       "      <td>88</td>\n",
       "      <td>14</td>\n",
       "      <td>2.0</td>\n",
       "      <td>30.0</td>\n",
       "      <td>0.0</td>\n",
       "      <td>2004</td>\n",
       "      <td>0.681</td>\n",
       "      <td>0.876</td>\n",
       "    </tr>\n",
       "    <tr>\n",
       "      <th>5</th>\n",
       "      <td>Nondemented</td>\n",
       "      <td>1</td>\n",
       "      <td>0</td>\n",
       "      <td>F</td>\n",
       "      <td>R</td>\n",
       "      <td>88</td>\n",
       "      <td>18</td>\n",
       "      <td>3.0</td>\n",
       "      <td>28.0</td>\n",
       "      <td>0.0</td>\n",
       "      <td>1215</td>\n",
       "      <td>0.710</td>\n",
       "      <td>1.444</td>\n",
       "    </tr>\n",
       "    <tr>\n",
       "      <th>6</th>\n",
       "      <td>Nondemented</td>\n",
       "      <td>2</td>\n",
       "      <td>538</td>\n",
       "      <td>F</td>\n",
       "      <td>R</td>\n",
       "      <td>90</td>\n",
       "      <td>18</td>\n",
       "      <td>3.0</td>\n",
       "      <td>27.0</td>\n",
       "      <td>0.0</td>\n",
       "      <td>1200</td>\n",
       "      <td>0.718</td>\n",
       "      <td>1.462</td>\n",
       "    </tr>\n",
       "    <tr>\n",
       "      <th>7</th>\n",
       "      <td>Nondemented</td>\n",
       "      <td>1</td>\n",
       "      <td>0</td>\n",
       "      <td>M</td>\n",
       "      <td>R</td>\n",
       "      <td>80</td>\n",
       "      <td>12</td>\n",
       "      <td>4.0</td>\n",
       "      <td>28.0</td>\n",
       "      <td>0.0</td>\n",
       "      <td>1689</td>\n",
       "      <td>0.712</td>\n",
       "      <td>1.039</td>\n",
       "    </tr>\n",
       "    <tr>\n",
       "      <th>...</th>\n",
       "      <td>...</td>\n",
       "      <td>...</td>\n",
       "      <td>...</td>\n",
       "      <td>...</td>\n",
       "      <td>...</td>\n",
       "      <td>...</td>\n",
       "      <td>...</td>\n",
       "      <td>...</td>\n",
       "      <td>...</td>\n",
       "      <td>...</td>\n",
       "      <td>...</td>\n",
       "      <td>...</td>\n",
       "      <td>...</td>\n",
       "    </tr>\n",
       "    <tr>\n",
       "      <th>368</th>\n",
       "      <td>Demented</td>\n",
       "      <td>2</td>\n",
       "      <td>842</td>\n",
       "      <td>M</td>\n",
       "      <td>R</td>\n",
       "      <td>82</td>\n",
       "      <td>16</td>\n",
       "      <td>1.0</td>\n",
       "      <td>28.0</td>\n",
       "      <td>0.5</td>\n",
       "      <td>1693</td>\n",
       "      <td>0.694</td>\n",
       "      <td>1.037</td>\n",
       "    </tr>\n",
       "    <tr>\n",
       "      <th>369</th>\n",
       "      <td>Demented</td>\n",
       "      <td>3</td>\n",
       "      <td>2297</td>\n",
       "      <td>M</td>\n",
       "      <td>R</td>\n",
       "      <td>86</td>\n",
       "      <td>16</td>\n",
       "      <td>1.0</td>\n",
       "      <td>26.0</td>\n",
       "      <td>0.5</td>\n",
       "      <td>1688</td>\n",
       "      <td>0.675</td>\n",
       "      <td>1.040</td>\n",
       "    </tr>\n",
       "    <tr>\n",
       "      <th>370</th>\n",
       "      <td>Nondemented</td>\n",
       "      <td>1</td>\n",
       "      <td>0</td>\n",
       "      <td>F</td>\n",
       "      <td>R</td>\n",
       "      <td>61</td>\n",
       "      <td>13</td>\n",
       "      <td>2.0</td>\n",
       "      <td>30.0</td>\n",
       "      <td>0.0</td>\n",
       "      <td>1319</td>\n",
       "      <td>0.801</td>\n",
       "      <td>1.331</td>\n",
       "    </tr>\n",
       "    <tr>\n",
       "      <th>371</th>\n",
       "      <td>Nondemented</td>\n",
       "      <td>2</td>\n",
       "      <td>763</td>\n",
       "      <td>F</td>\n",
       "      <td>R</td>\n",
       "      <td>63</td>\n",
       "      <td>13</td>\n",
       "      <td>2.0</td>\n",
       "      <td>30.0</td>\n",
       "      <td>0.0</td>\n",
       "      <td>1327</td>\n",
       "      <td>0.796</td>\n",
       "      <td>1.323</td>\n",
       "    </tr>\n",
       "    <tr>\n",
       "      <th>372</th>\n",
       "      <td>Nondemented</td>\n",
       "      <td>3</td>\n",
       "      <td>1608</td>\n",
       "      <td>F</td>\n",
       "      <td>R</td>\n",
       "      <td>65</td>\n",
       "      <td>13</td>\n",
       "      <td>2.0</td>\n",
       "      <td>30.0</td>\n",
       "      <td>0.0</td>\n",
       "      <td>1333</td>\n",
       "      <td>0.801</td>\n",
       "      <td>1.317</td>\n",
       "    </tr>\n",
       "  </tbody>\n",
       "</table>\n",
       "<p>354 rows × 13 columns</p>\n",
       "</div>"
      ],
      "text/plain": [
       "           Group  Visit  MR Delay M/F Hand  Age  EDUC  SES  MMSE  CDR  eTIV  \\\n",
       "0    Nondemented      1         0   M    R   87    14  2.0  27.0  0.0  1987   \n",
       "1    Nondemented      2       457   M    R   88    14  2.0  30.0  0.0  2004   \n",
       "5    Nondemented      1         0   F    R   88    18  3.0  28.0  0.0  1215   \n",
       "6    Nondemented      2       538   F    R   90    18  3.0  27.0  0.0  1200   \n",
       "7    Nondemented      1         0   M    R   80    12  4.0  28.0  0.0  1689   \n",
       "..           ...    ...       ...  ..  ...  ...   ...  ...   ...  ...   ...   \n",
       "368     Demented      2       842   M    R   82    16  1.0  28.0  0.5  1693   \n",
       "369     Demented      3      2297   M    R   86    16  1.0  26.0  0.5  1688   \n",
       "370  Nondemented      1         0   F    R   61    13  2.0  30.0  0.0  1319   \n",
       "371  Nondemented      2       763   F    R   63    13  2.0  30.0  0.0  1327   \n",
       "372  Nondemented      3      1608   F    R   65    13  2.0  30.0  0.0  1333   \n",
       "\n",
       "      nWBV    ASF  \n",
       "0    0.696  0.883  \n",
       "1    0.681  0.876  \n",
       "5    0.710  1.444  \n",
       "6    0.718  1.462  \n",
       "7    0.712  1.039  \n",
       "..     ...    ...  \n",
       "368  0.694  1.037  \n",
       "369  0.675  1.040  \n",
       "370  0.801  1.331  \n",
       "371  0.796  1.323  \n",
       "372  0.801  1.317  \n",
       "\n",
       "[354 rows x 13 columns]"
      ]
     },
     "execution_count": 8,
     "metadata": {},
     "output_type": "execute_result"
    }
   ],
   "source": [
    "#lets drop all null values\n",
    "data.dropna()\n"
   ]
  },
  {
   "cell_type": "code",
   "execution_count": 9,
   "id": "0ee63852",
   "metadata": {},
   "outputs": [],
   "source": [
    "#lets try do classificatin using a decision tree! "
   ]
  },
  {
   "cell_type": "code",
   "execution_count": 10,
   "id": "4fa4acd6",
   "metadata": {},
   "outputs": [],
   "source": [
    "from sklearn.model_selection import train_test_split"
   ]
  },
  {
   "cell_type": "code",
   "execution_count": 11,
   "id": "4ce8e774",
   "metadata": {},
   "outputs": [],
   "source": [
    "#need to create target variable now "
   ]
  },
  {
   "cell_type": "code",
   "execution_count": 12,
   "id": "798c76dc",
   "metadata": {},
   "outputs": [],
   "source": [
    "y = data['Group']\n",
    "x = data.drop(['Group'], axis = 1 )"
   ]
  },
  {
   "cell_type": "code",
   "execution_count": 13,
   "id": "6b81292f",
   "metadata": {},
   "outputs": [],
   "source": [
    "#lets do a little data preprocessing"
   ]
  },
  {
   "cell_type": "code",
   "execution_count": null,
   "id": "ef5030ca",
   "metadata": {},
   "outputs": [],
   "source": []
  },
  {
   "cell_type": "code",
   "execution_count": 14,
   "id": "7c20365a",
   "metadata": {},
   "outputs": [],
   "source": [
    "#Num and Cat pipeline\n",
    "from sklearn.compose import ColumnTransformer\n",
    "from sklearn.pipeline import Pipeline\n",
    "from sklearn.impute import SimpleImputer\n",
    "from sklearn.preprocessing import StandardScaler\n",
    "from sklearn.preprocessing import OneHotEncoder\n",
    "\n",
    "num_pipeline = Pipeline([\n",
    "        (\"imputer\", SimpleImputer(strategy=\"median\")),\n",
    "        (\"scaler\", StandardScaler())\n",
    "    ])\n",
    "\n",
    "\n",
    "cat_pipeline = Pipeline([\n",
    "        (\"imputer\", SimpleImputer(strategy=\"most_frequent\")),\n",
    "        (\"cat_encoder\", OneHotEncoder(sparse=False))\n",
    "    ])\n",
    "\n",
    "\n",
    "num_attribs = ['Visit', 'Age', 'EDUC', 'MMSE', 'CDR', 'eTIV', 'nWBV', 'ASF']\n",
    "cat_attribs = ['M/F', 'Hand']"
   ]
  },
  {
   "cell_type": "code",
   "execution_count": 15,
   "id": "bc420d1d",
   "metadata": {},
   "outputs": [],
   "source": [
    "preprocess_pipeline = ColumnTransformer([\n",
    "        (\"num\", num_pipeline, num_attribs),\n",
    "        (\"cat\", cat_pipeline, cat_attribs),\n",
    "    ])"
   ]
  },
  {
   "cell_type": "code",
   "execution_count": 16,
   "id": "805206ff",
   "metadata": {},
   "outputs": [],
   "source": [
    "preprocess_pipeline = ColumnTransformer([\n",
    "        (\"num\", num_pipeline, num_attribs),\n",
    "        (\"cat\", cat_pipeline, cat_attribs),\n",
    "    ])\n",
    "\n"
   ]
  },
  {
   "cell_type": "code",
   "execution_count": null,
   "id": "fef3aec5",
   "metadata": {},
   "outputs": [],
   "source": []
  },
  {
   "cell_type": "code",
   "execution_count": 17,
   "id": "c2fb969d",
   "metadata": {},
   "outputs": [],
   "source": [
    "X_train, X_test, y_train, y_test = train_test_split(x, y, test_size = 0.20, random_state = 24)"
   ]
  },
  {
   "cell_type": "code",
   "execution_count": 18,
   "id": "861b97be",
   "metadata": {},
   "outputs": [],
   "source": [
    "X_train = preprocess_pipeline.fit_transform(\n",
    "    X_train[num_attribs + cat_attribs])\n",
    "\n",
    "\n",
    "\n",
    "\n",
    "X_test = preprocess_pipeline.fit_transform(\n",
    "    X_test[num_attribs + cat_attribs])\n",
    "\n",
    "\n",
    "#saving for later\n",
    "X_train_copy = X_train\n",
    "X_test_copy = X_test"
   ]
  },
  {
   "cell_type": "code",
   "execution_count": 19,
   "id": "43dae31d",
   "metadata": {},
   "outputs": [],
   "source": [
    "# to do a little parameter tuning \n",
    "model_params = {'criterion':['gini','entropy'],'max_depth':[4,5,6,7,8,9,10,11,12,15,20,30,40,50,70,90,120,150]}\n",
    "from sklearn.model_selection import GridSearchCV\n",
    "\n",
    "model =GridSearchCV(DecisionTreeClassifier(), model_params, cv = 10)"
   ]
  },
  {
   "cell_type": "code",
   "execution_count": 20,
   "id": "09a8d928",
   "metadata": {},
   "outputs": [
    {
     "data": {
      "text/plain": [
       "DecisionTreeClassifier(criterion='entropy', max_depth=4)"
      ]
     },
     "execution_count": 20,
     "metadata": {},
     "output_type": "execute_result"
    }
   ],
   "source": [
    "model.fit(X_train, y_train)\n",
    "model.best_estimator_"
   ]
  },
  {
   "cell_type": "code",
   "execution_count": 21,
   "id": "3f18f63f",
   "metadata": {},
   "outputs": [],
   "source": [
    "y_pred = model.predict(X_test)"
   ]
  },
  {
   "cell_type": "code",
   "execution_count": 22,
   "id": "4149301c",
   "metadata": {},
   "outputs": [
    {
     "name": "stdout",
     "output_type": "stream",
     "text": [
      "[[ 0  3  4]\n",
      " [ 0 34  0]\n",
      " [ 1  0 33]]\n",
      "              precision    recall  f1-score   support\n",
      "\n",
      "   Converted       0.00      0.00      0.00         7\n",
      "    Demented       0.92      1.00      0.96        34\n",
      " Nondemented       0.89      0.97      0.93        34\n",
      "\n",
      "    accuracy                           0.89        75\n",
      "   macro avg       0.60      0.66      0.63        75\n",
      "weighted avg       0.82      0.89      0.86        75\n",
      "\n"
     ]
    }
   ],
   "source": [
    "#now lets evaluate the algorithm \n",
    "\n",
    "from sklearn.metrics import classification_report, confusion_matrix\n",
    "print(confusion_matrix(y_test, y_pred))\n",
    "print(classification_report(y_test, y_pred))"
   ]
  },
  {
   "cell_type": "code",
   "execution_count": 23,
   "id": "c9b2072a",
   "metadata": {},
   "outputs": [],
   "source": [
    "# not bad! our algorithm is decent at predicting if someone is demented or nondemented - not great at converted, though. \n",
    "\n",
    "#a quick reminder \n",
    "\n",
    "#more false negatives (such as predicting an individual with dementia is non-demendtia) is associated\n",
    "#with a lower RECALL SCORE \n",
    "\n",
    "#More False positives (saying someone wihout dementia has dementia) is associated with a \n",
    "#lower PRECISION SCORE \n",
    "\n",
    "\n"
   ]
  },
  {
   "cell_type": "code",
   "execution_count": 24,
   "id": "b46bb1f9",
   "metadata": {},
   "outputs": [],
   "source": []
  },
  {
   "cell_type": "code",
   "execution_count": null,
   "id": "93ed4e52",
   "metadata": {},
   "outputs": [],
   "source": []
  }
 ],
 "metadata": {
  "kernelspec": {
   "display_name": "Python 3 (ipykernel)",
   "language": "python",
   "name": "python3"
  },
  "language_info": {
   "codemirror_mode": {
    "name": "ipython",
    "version": 3
   },
   "file_extension": ".py",
   "mimetype": "text/x-python",
   "name": "python",
   "nbconvert_exporter": "python",
   "pygments_lexer": "ipython3",
   "version": "3.9.7"
  }
 },
 "nbformat": 4,
 "nbformat_minor": 5
}
