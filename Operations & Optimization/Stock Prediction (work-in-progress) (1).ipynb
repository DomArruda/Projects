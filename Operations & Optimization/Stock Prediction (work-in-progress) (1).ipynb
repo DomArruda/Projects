{
 "cells": [
  {
   "cell_type": "code",
   "execution_count": null,
   "id": "1ddc34ff",
   "metadata": {},
   "outputs": [],
   "source": []
  },
  {
   "cell_type": "code",
   "execution_count": 1,
   "id": "5eff4170",
   "metadata": {},
   "outputs": [],
   "source": [
    "import pandas as pd\n",
    "import yfinance as yf\n",
    "import datetime\n",
    "import time\n",
    "import requests\n",
    "import io"
   ]
  },
  {
   "cell_type": "code",
   "execution_count": 2,
   "id": "27d30859",
   "metadata": {},
   "outputs": [],
   "source": [
    "#stock analysis \n",
    "\n",
    "start = datetime.datetime(2020,2,1)\n",
    "end = datetime.datetime(2020,10,11)"
   ]
  },
  {
   "cell_type": "code",
   "execution_count": 3,
   "id": "83f7e9ce",
   "metadata": {},
   "outputs": [],
   "source": [
    "stock = [] \n",
    "i = 'AAL'\n",
    "stock = yf.download(i, start = start, end = end, progress = False) "
   ]
  },
  {
   "cell_type": "code",
   "execution_count": 4,
   "id": "04a06316",
   "metadata": {
    "scrolled": false
   },
   "outputs": [
    {
     "data": {
      "text/html": [
       "<div>\n",
       "<style scoped>\n",
       "    .dataframe tbody tr th:only-of-type {\n",
       "        vertical-align: middle;\n",
       "    }\n",
       "\n",
       "    .dataframe tbody tr th {\n",
       "        vertical-align: top;\n",
       "    }\n",
       "\n",
       "    .dataframe thead th {\n",
       "        text-align: right;\n",
       "    }\n",
       "</style>\n",
       "<table border=\"1\" class=\"dataframe\">\n",
       "  <thead>\n",
       "    <tr style=\"text-align: right;\">\n",
       "      <th></th>\n",
       "      <th>Open</th>\n",
       "      <th>High</th>\n",
       "      <th>Low</th>\n",
       "      <th>Close</th>\n",
       "      <th>Adj Close</th>\n",
       "      <th>Volume</th>\n",
       "    </tr>\n",
       "    <tr>\n",
       "      <th>Date</th>\n",
       "      <th></th>\n",
       "      <th></th>\n",
       "      <th></th>\n",
       "      <th></th>\n",
       "      <th></th>\n",
       "      <th></th>\n",
       "    </tr>\n",
       "  </thead>\n",
       "  <tbody>\n",
       "    <tr>\n",
       "      <th>2020-02-03</th>\n",
       "      <td>26.930000</td>\n",
       "      <td>27.670000</td>\n",
       "      <td>26.740000</td>\n",
       "      <td>27.160000</td>\n",
       "      <td>27.059999</td>\n",
       "      <td>7630400</td>\n",
       "    </tr>\n",
       "    <tr>\n",
       "      <th>2020-02-04</th>\n",
       "      <td>27.680000</td>\n",
       "      <td>28.610001</td>\n",
       "      <td>27.549999</td>\n",
       "      <td>28.430000</td>\n",
       "      <td>28.430000</td>\n",
       "      <td>10832900</td>\n",
       "    </tr>\n",
       "    <tr>\n",
       "      <th>2020-02-05</th>\n",
       "      <td>28.959999</td>\n",
       "      <td>29.240000</td>\n",
       "      <td>28.549999</td>\n",
       "      <td>29.100000</td>\n",
       "      <td>29.100000</td>\n",
       "      <td>8959700</td>\n",
       "    </tr>\n",
       "    <tr>\n",
       "      <th>2020-02-06</th>\n",
       "      <td>29.260000</td>\n",
       "      <td>29.450001</td>\n",
       "      <td>28.139999</td>\n",
       "      <td>28.299999</td>\n",
       "      <td>28.299999</td>\n",
       "      <td>8335800</td>\n",
       "    </tr>\n",
       "    <tr>\n",
       "      <th>2020-02-07</th>\n",
       "      <td>28.059999</td>\n",
       "      <td>28.549999</td>\n",
       "      <td>27.780001</td>\n",
       "      <td>28.379999</td>\n",
       "      <td>28.379999</td>\n",
       "      <td>6231800</td>\n",
       "    </tr>\n",
       "    <tr>\n",
       "      <th>...</th>\n",
       "      <td>...</td>\n",
       "      <td>...</td>\n",
       "      <td>...</td>\n",
       "      <td>...</td>\n",
       "      <td>...</td>\n",
       "      <td>...</td>\n",
       "    </tr>\n",
       "    <tr>\n",
       "      <th>2020-10-05</th>\n",
       "      <td>13.090000</td>\n",
       "      <td>13.200000</td>\n",
       "      <td>12.750000</td>\n",
       "      <td>13.120000</td>\n",
       "      <td>13.120000</td>\n",
       "      <td>53465500</td>\n",
       "    </tr>\n",
       "    <tr>\n",
       "      <th>2020-10-06</th>\n",
       "      <td>13.280000</td>\n",
       "      <td>13.440000</td>\n",
       "      <td>12.460000</td>\n",
       "      <td>12.530000</td>\n",
       "      <td>12.530000</td>\n",
       "      <td>85252400</td>\n",
       "    </tr>\n",
       "    <tr>\n",
       "      <th>2020-10-07</th>\n",
       "      <td>12.980000</td>\n",
       "      <td>13.180000</td>\n",
       "      <td>12.810000</td>\n",
       "      <td>13.070000</td>\n",
       "      <td>13.070000</td>\n",
       "      <td>61274200</td>\n",
       "    </tr>\n",
       "    <tr>\n",
       "      <th>2020-10-08</th>\n",
       "      <td>13.330000</td>\n",
       "      <td>13.680000</td>\n",
       "      <td>12.730000</td>\n",
       "      <td>13.160000</td>\n",
       "      <td>13.160000</td>\n",
       "      <td>88851700</td>\n",
       "    </tr>\n",
       "    <tr>\n",
       "      <th>2020-10-09</th>\n",
       "      <td>13.250000</td>\n",
       "      <td>13.490000</td>\n",
       "      <td>12.950000</td>\n",
       "      <td>13.200000</td>\n",
       "      <td>13.200000</td>\n",
       "      <td>65281000</td>\n",
       "    </tr>\n",
       "  </tbody>\n",
       "</table>\n",
       "<p>175 rows × 6 columns</p>\n",
       "</div>"
      ],
      "text/plain": [
       "                 Open       High        Low      Close  Adj Close    Volume\n",
       "Date                                                                       \n",
       "2020-02-03  26.930000  27.670000  26.740000  27.160000  27.059999   7630400\n",
       "2020-02-04  27.680000  28.610001  27.549999  28.430000  28.430000  10832900\n",
       "2020-02-05  28.959999  29.240000  28.549999  29.100000  29.100000   8959700\n",
       "2020-02-06  29.260000  29.450001  28.139999  28.299999  28.299999   8335800\n",
       "2020-02-07  28.059999  28.549999  27.780001  28.379999  28.379999   6231800\n",
       "...               ...        ...        ...        ...        ...       ...\n",
       "2020-10-05  13.090000  13.200000  12.750000  13.120000  13.120000  53465500\n",
       "2020-10-06  13.280000  13.440000  12.460000  12.530000  12.530000  85252400\n",
       "2020-10-07  12.980000  13.180000  12.810000  13.070000  13.070000  61274200\n",
       "2020-10-08  13.330000  13.680000  12.730000  13.160000  13.160000  88851700\n",
       "2020-10-09  13.250000  13.490000  12.950000  13.200000  13.200000  65281000\n",
       "\n",
       "[175 rows x 6 columns]"
      ]
     },
     "execution_count": 4,
     "metadata": {},
     "output_type": "execute_result"
    }
   ],
   "source": [
    "stock"
   ]
  },
  {
   "cell_type": "code",
   "execution_count": 5,
   "id": "61370b64",
   "metadata": {},
   "outputs": [],
   "source": [
    "import datetime"
   ]
  },
  {
   "cell_type": "code",
   "execution_count": 6,
   "id": "d0663556",
   "metadata": {},
   "outputs": [],
   "source": [
    "stock.reset_index(inplace=True)\n"
   ]
  },
  {
   "cell_type": "code",
   "execution_count": 7,
   "id": "442ce6ef",
   "metadata": {},
   "outputs": [
    {
     "data": {
      "text/html": [
       "<div>\n",
       "<style scoped>\n",
       "    .dataframe tbody tr th:only-of-type {\n",
       "        vertical-align: middle;\n",
       "    }\n",
       "\n",
       "    .dataframe tbody tr th {\n",
       "        vertical-align: top;\n",
       "    }\n",
       "\n",
       "    .dataframe thead th {\n",
       "        text-align: right;\n",
       "    }\n",
       "</style>\n",
       "<table border=\"1\" class=\"dataframe\">\n",
       "  <thead>\n",
       "    <tr style=\"text-align: right;\">\n",
       "      <th></th>\n",
       "      <th>Date</th>\n",
       "      <th>Open</th>\n",
       "      <th>High</th>\n",
       "      <th>Low</th>\n",
       "      <th>Close</th>\n",
       "      <th>Adj Close</th>\n",
       "      <th>Volume</th>\n",
       "    </tr>\n",
       "  </thead>\n",
       "  <tbody>\n",
       "    <tr>\n",
       "      <th>0</th>\n",
       "      <td>2020-02-03</td>\n",
       "      <td>26.930000</td>\n",
       "      <td>27.670000</td>\n",
       "      <td>26.740000</td>\n",
       "      <td>27.160000</td>\n",
       "      <td>27.059999</td>\n",
       "      <td>7630400</td>\n",
       "    </tr>\n",
       "    <tr>\n",
       "      <th>1</th>\n",
       "      <td>2020-02-04</td>\n",
       "      <td>27.680000</td>\n",
       "      <td>28.610001</td>\n",
       "      <td>27.549999</td>\n",
       "      <td>28.430000</td>\n",
       "      <td>28.430000</td>\n",
       "      <td>10832900</td>\n",
       "    </tr>\n",
       "    <tr>\n",
       "      <th>2</th>\n",
       "      <td>2020-02-05</td>\n",
       "      <td>28.959999</td>\n",
       "      <td>29.240000</td>\n",
       "      <td>28.549999</td>\n",
       "      <td>29.100000</td>\n",
       "      <td>29.100000</td>\n",
       "      <td>8959700</td>\n",
       "    </tr>\n",
       "    <tr>\n",
       "      <th>3</th>\n",
       "      <td>2020-02-06</td>\n",
       "      <td>29.260000</td>\n",
       "      <td>29.450001</td>\n",
       "      <td>28.139999</td>\n",
       "      <td>28.299999</td>\n",
       "      <td>28.299999</td>\n",
       "      <td>8335800</td>\n",
       "    </tr>\n",
       "    <tr>\n",
       "      <th>4</th>\n",
       "      <td>2020-02-07</td>\n",
       "      <td>28.059999</td>\n",
       "      <td>28.549999</td>\n",
       "      <td>27.780001</td>\n",
       "      <td>28.379999</td>\n",
       "      <td>28.379999</td>\n",
       "      <td>6231800</td>\n",
       "    </tr>\n",
       "    <tr>\n",
       "      <th>...</th>\n",
       "      <td>...</td>\n",
       "      <td>...</td>\n",
       "      <td>...</td>\n",
       "      <td>...</td>\n",
       "      <td>...</td>\n",
       "      <td>...</td>\n",
       "      <td>...</td>\n",
       "    </tr>\n",
       "    <tr>\n",
       "      <th>170</th>\n",
       "      <td>2020-10-05</td>\n",
       "      <td>13.090000</td>\n",
       "      <td>13.200000</td>\n",
       "      <td>12.750000</td>\n",
       "      <td>13.120000</td>\n",
       "      <td>13.120000</td>\n",
       "      <td>53465500</td>\n",
       "    </tr>\n",
       "    <tr>\n",
       "      <th>171</th>\n",
       "      <td>2020-10-06</td>\n",
       "      <td>13.280000</td>\n",
       "      <td>13.440000</td>\n",
       "      <td>12.460000</td>\n",
       "      <td>12.530000</td>\n",
       "      <td>12.530000</td>\n",
       "      <td>85252400</td>\n",
       "    </tr>\n",
       "    <tr>\n",
       "      <th>172</th>\n",
       "      <td>2020-10-07</td>\n",
       "      <td>12.980000</td>\n",
       "      <td>13.180000</td>\n",
       "      <td>12.810000</td>\n",
       "      <td>13.070000</td>\n",
       "      <td>13.070000</td>\n",
       "      <td>61274200</td>\n",
       "    </tr>\n",
       "    <tr>\n",
       "      <th>173</th>\n",
       "      <td>2020-10-08</td>\n",
       "      <td>13.330000</td>\n",
       "      <td>13.680000</td>\n",
       "      <td>12.730000</td>\n",
       "      <td>13.160000</td>\n",
       "      <td>13.160000</td>\n",
       "      <td>88851700</td>\n",
       "    </tr>\n",
       "    <tr>\n",
       "      <th>174</th>\n",
       "      <td>2020-10-09</td>\n",
       "      <td>13.250000</td>\n",
       "      <td>13.490000</td>\n",
       "      <td>12.950000</td>\n",
       "      <td>13.200000</td>\n",
       "      <td>13.200000</td>\n",
       "      <td>65281000</td>\n",
       "    </tr>\n",
       "  </tbody>\n",
       "</table>\n",
       "<p>175 rows × 7 columns</p>\n",
       "</div>"
      ],
      "text/plain": [
       "          Date       Open       High        Low      Close  Adj Close  \\\n",
       "0   2020-02-03  26.930000  27.670000  26.740000  27.160000  27.059999   \n",
       "1   2020-02-04  27.680000  28.610001  27.549999  28.430000  28.430000   \n",
       "2   2020-02-05  28.959999  29.240000  28.549999  29.100000  29.100000   \n",
       "3   2020-02-06  29.260000  29.450001  28.139999  28.299999  28.299999   \n",
       "4   2020-02-07  28.059999  28.549999  27.780001  28.379999  28.379999   \n",
       "..         ...        ...        ...        ...        ...        ...   \n",
       "170 2020-10-05  13.090000  13.200000  12.750000  13.120000  13.120000   \n",
       "171 2020-10-06  13.280000  13.440000  12.460000  12.530000  12.530000   \n",
       "172 2020-10-07  12.980000  13.180000  12.810000  13.070000  13.070000   \n",
       "173 2020-10-08  13.330000  13.680000  12.730000  13.160000  13.160000   \n",
       "174 2020-10-09  13.250000  13.490000  12.950000  13.200000  13.200000   \n",
       "\n",
       "       Volume  \n",
       "0     7630400  \n",
       "1    10832900  \n",
       "2     8959700  \n",
       "3     8335800  \n",
       "4     6231800  \n",
       "..        ...  \n",
       "170  53465500  \n",
       "171  85252400  \n",
       "172  61274200  \n",
       "173  88851700  \n",
       "174  65281000  \n",
       "\n",
       "[175 rows x 7 columns]"
      ]
     },
     "execution_count": 7,
     "metadata": {},
     "output_type": "execute_result"
    }
   ],
   "source": [
    "stock"
   ]
  },
  {
   "cell_type": "code",
   "execution_count": null,
   "id": "fc2f2669",
   "metadata": {},
   "outputs": [],
   "source": []
  },
  {
   "cell_type": "code",
   "execution_count": 8,
   "id": "8571fdeb",
   "metadata": {},
   "outputs": [],
   "source": [
    "stock['year'] = pd.DatetimeIndex(stock['Date']).year\n",
    "stock['month'] = pd.DatetimeIndex(stock['Date']).month\n",
    "stock['day'] = pd.DatetimeIndex(stock['Date']).day"
   ]
  },
  {
   "cell_type": "code",
   "execution_count": 9,
   "id": "ae5f5321",
   "metadata": {},
   "outputs": [],
   "source": [
    "# lets try to predict the adjusted close with just the day and month"
   ]
  },
  {
   "cell_type": "code",
   "execution_count": 10,
   "id": "c3efc0f2",
   "metadata": {},
   "outputs": [],
   "source": [
    "stock_copy = stock \n",
    "\n",
    "stock = stock[['month', 'day', 'Adj Close']]\n",
    "\n",
    "#simple pipeline\n",
    "import sklearn\n",
    "\n",
    "from sklearn.model_selection import train_test_split\n",
    "\n",
    "from sklearn.compose import ColumnTransformer\n",
    "from sklearn.pipeline import Pipeline\n",
    "from sklearn.impute import SimpleImputer\n",
    "from sklearn.preprocessing import StandardScaler\n",
    "y = stock['Adj Close'] \n",
    "x = stock.drop('Adj Close', axis = 1)\n",
    "\n",
    "\n",
    "X_train, X_test, y_train, y_test = train_test_split(x, y, test_size = 0.20, random_state = 24)\n",
    "\n",
    "from sklearn.ensemble import RandomForestRegressor\n",
    "\n",
    "param_grid = { \n",
    "    'n_estimators': [200, 500, 1000, 2000]\n",
    "}\n",
    "from sklearn.model_selection import GridSearchCV\n",
    "\n",
    "    \n",
    "\n",
    "\n"
   ]
  },
  {
   "cell_type": "code",
   "execution_count": 11,
   "id": "1d0d9910",
   "metadata": {},
   "outputs": [
    {
     "data": {
      "text/html": [
       "<style>#sk-container-id-1 {color: black;background-color: white;}#sk-container-id-1 pre{padding: 0;}#sk-container-id-1 div.sk-toggleable {background-color: white;}#sk-container-id-1 label.sk-toggleable__label {cursor: pointer;display: block;width: 100%;margin-bottom: 0;padding: 0.3em;box-sizing: border-box;text-align: center;}#sk-container-id-1 label.sk-toggleable__label-arrow:before {content: \"▸\";float: left;margin-right: 0.25em;color: #696969;}#sk-container-id-1 label.sk-toggleable__label-arrow:hover:before {color: black;}#sk-container-id-1 div.sk-estimator:hover label.sk-toggleable__label-arrow:before {color: black;}#sk-container-id-1 div.sk-toggleable__content {max-height: 0;max-width: 0;overflow: hidden;text-align: left;background-color: #f0f8ff;}#sk-container-id-1 div.sk-toggleable__content pre {margin: 0.2em;color: black;border-radius: 0.25em;background-color: #f0f8ff;}#sk-container-id-1 input.sk-toggleable__control:checked~div.sk-toggleable__content {max-height: 200px;max-width: 100%;overflow: auto;}#sk-container-id-1 input.sk-toggleable__control:checked~label.sk-toggleable__label-arrow:before {content: \"▾\";}#sk-container-id-1 div.sk-estimator input.sk-toggleable__control:checked~label.sk-toggleable__label {background-color: #d4ebff;}#sk-container-id-1 div.sk-label input.sk-toggleable__control:checked~label.sk-toggleable__label {background-color: #d4ebff;}#sk-container-id-1 input.sk-hidden--visually {border: 0;clip: rect(1px 1px 1px 1px);clip: rect(1px, 1px, 1px, 1px);height: 1px;margin: -1px;overflow: hidden;padding: 0;position: absolute;width: 1px;}#sk-container-id-1 div.sk-estimator {font-family: monospace;background-color: #f0f8ff;border: 1px dotted black;border-radius: 0.25em;box-sizing: border-box;margin-bottom: 0.5em;}#sk-container-id-1 div.sk-estimator:hover {background-color: #d4ebff;}#sk-container-id-1 div.sk-parallel-item::after {content: \"\";width: 100%;border-bottom: 1px solid gray;flex-grow: 1;}#sk-container-id-1 div.sk-label:hover label.sk-toggleable__label {background-color: #d4ebff;}#sk-container-id-1 div.sk-serial::before {content: \"\";position: absolute;border-left: 1px solid gray;box-sizing: border-box;top: 0;bottom: 0;left: 50%;z-index: 0;}#sk-container-id-1 div.sk-serial {display: flex;flex-direction: column;align-items: center;background-color: white;padding-right: 0.2em;padding-left: 0.2em;position: relative;}#sk-container-id-1 div.sk-item {position: relative;z-index: 1;}#sk-container-id-1 div.sk-parallel {display: flex;align-items: stretch;justify-content: center;background-color: white;position: relative;}#sk-container-id-1 div.sk-item::before, #sk-container-id-1 div.sk-parallel-item::before {content: \"\";position: absolute;border-left: 1px solid gray;box-sizing: border-box;top: 0;bottom: 0;left: 50%;z-index: -1;}#sk-container-id-1 div.sk-parallel-item {display: flex;flex-direction: column;z-index: 1;position: relative;background-color: white;}#sk-container-id-1 div.sk-parallel-item:first-child::after {align-self: flex-end;width: 50%;}#sk-container-id-1 div.sk-parallel-item:last-child::after {align-self: flex-start;width: 50%;}#sk-container-id-1 div.sk-parallel-item:only-child::after {width: 0;}#sk-container-id-1 div.sk-dashed-wrapped {border: 1px dashed gray;margin: 0 0.4em 0.5em 0.4em;box-sizing: border-box;padding-bottom: 0.4em;background-color: white;}#sk-container-id-1 div.sk-label label {font-family: monospace;font-weight: bold;display: inline-block;line-height: 1.2em;}#sk-container-id-1 div.sk-label-container {text-align: center;}#sk-container-id-1 div.sk-container {/* jupyter's `normalize.less` sets `[hidden] { display: none; }` but bootstrap.min.css set `[hidden] { display: none !important; }` so we also need the `!important` here to be able to override the default hidden behavior on the sphinx rendered scikit-learn.org. See: https://github.com/scikit-learn/scikit-learn/issues/21755 */display: inline-block !important;position: relative;}#sk-container-id-1 div.sk-text-repr-fallback {display: none;}</style><div id=\"sk-container-id-1\" class=\"sk-top-container\"><div class=\"sk-text-repr-fallback\"><pre>GridSearchCV(cv=3, estimator=RandomForestRegressor(random_state=42),\n",
       "             param_grid={&#x27;n_estimators&#x27;: [200, 500, 1000, 2000]})</pre><b>In a Jupyter environment, please rerun this cell to show the HTML representation or trust the notebook. <br />On GitHub, the HTML representation is unable to render, please try loading this page with nbviewer.org.</b></div><div class=\"sk-container\" hidden><div class=\"sk-item sk-dashed-wrapped\"><div class=\"sk-label-container\"><div class=\"sk-label sk-toggleable\"><input class=\"sk-toggleable__control sk-hidden--visually\" id=\"sk-estimator-id-1\" type=\"checkbox\" ><label for=\"sk-estimator-id-1\" class=\"sk-toggleable__label sk-toggleable__label-arrow\">GridSearchCV</label><div class=\"sk-toggleable__content\"><pre>GridSearchCV(cv=3, estimator=RandomForestRegressor(random_state=42),\n",
       "             param_grid={&#x27;n_estimators&#x27;: [200, 500, 1000, 2000]})</pre></div></div></div><div class=\"sk-parallel\"><div class=\"sk-parallel-item\"><div class=\"sk-item\"><div class=\"sk-label-container\"><div class=\"sk-label sk-toggleable\"><input class=\"sk-toggleable__control sk-hidden--visually\" id=\"sk-estimator-id-2\" type=\"checkbox\" ><label for=\"sk-estimator-id-2\" class=\"sk-toggleable__label sk-toggleable__label-arrow\">estimator: RandomForestRegressor</label><div class=\"sk-toggleable__content\"><pre>RandomForestRegressor(random_state=42)</pre></div></div></div><div class=\"sk-serial\"><div class=\"sk-item\"><div class=\"sk-estimator sk-toggleable\"><input class=\"sk-toggleable__control sk-hidden--visually\" id=\"sk-estimator-id-3\" type=\"checkbox\" ><label for=\"sk-estimator-id-3\" class=\"sk-toggleable__label sk-toggleable__label-arrow\">RandomForestRegressor</label><div class=\"sk-toggleable__content\"><pre>RandomForestRegressor(random_state=42)</pre></div></div></div></div></div></div></div></div></div></div>"
      ],
      "text/plain": [
       "GridSearchCV(cv=3, estimator=RandomForestRegressor(random_state=42),\n",
       "             param_grid={'n_estimators': [200, 500, 1000, 2000]})"
      ]
     },
     "execution_count": 11,
     "metadata": {},
     "output_type": "execute_result"
    }
   ],
   "source": [
    "model = GridSearchCV(RandomForestRegressor(random_state = 42), param_grid, cv = 3)\n",
    "\n",
    "    \n",
    "model.fit(X_train, y_train)"
   ]
  },
  {
   "cell_type": "code",
   "execution_count": 12,
   "id": "8a86fdbf",
   "metadata": {},
   "outputs": [
    {
     "name": "stdout",
     "output_type": "stream",
     "text": [
      "\n",
      "Model Score:  0.9728634793461225 \n",
      "\n"
     ]
    }
   ],
   "source": [
    "y_pred = model.predict(X_test)\n",
    "    \n",
    "print('\\nModel Score: ',model.score(X_test, y_test),'\\n')\n",
    "    "
   ]
  },
  {
   "cell_type": "code",
   "execution_count": 13,
   "id": "7ec56a23",
   "metadata": {},
   "outputs": [],
   "source": [
    "# lets see how accurate it actually is "
   ]
  },
  {
   "cell_type": "code",
   "execution_count": 14,
   "id": "c5405d2c",
   "metadata": {
    "scrolled": true
   },
   "outputs": [
    {
     "data": {
      "text/html": [
       "<div>\n",
       "<style scoped>\n",
       "    .dataframe tbody tr th:only-of-type {\n",
       "        vertical-align: middle;\n",
       "    }\n",
       "\n",
       "    .dataframe tbody tr th {\n",
       "        vertical-align: top;\n",
       "    }\n",
       "\n",
       "    .dataframe thead th {\n",
       "        text-align: right;\n",
       "    }\n",
       "</style>\n",
       "<table border=\"1\" class=\"dataframe\">\n",
       "  <thead>\n",
       "    <tr style=\"text-align: right;\">\n",
       "      <th></th>\n",
       "      <th>month</th>\n",
       "      <th>day</th>\n",
       "      <th>Actual</th>\n",
       "      <th>Predicted</th>\n",
       "    </tr>\n",
       "  </thead>\n",
       "  <tbody>\n",
       "    <tr>\n",
       "      <th>108</th>\n",
       "      <td>7</td>\n",
       "      <td>8</td>\n",
       "      <td>11.990000</td>\n",
       "      <td>12.15825</td>\n",
       "    </tr>\n",
       "    <tr>\n",
       "      <th>158</th>\n",
       "      <td>9</td>\n",
       "      <td>17</td>\n",
       "      <td>13.630000</td>\n",
       "      <td>12.80150</td>\n",
       "    </tr>\n",
       "    <tr>\n",
       "      <th>93</th>\n",
       "      <td>6</td>\n",
       "      <td>16</td>\n",
       "      <td>17.030001</td>\n",
       "      <td>16.64380</td>\n",
       "    </tr>\n",
       "    <tr>\n",
       "      <th>150</th>\n",
       "      <td>9</td>\n",
       "      <td>4</td>\n",
       "      <td>13.610000</td>\n",
       "      <td>12.73410</td>\n",
       "    </tr>\n",
       "    <tr>\n",
       "      <th>57</th>\n",
       "      <td>4</td>\n",
       "      <td>24</td>\n",
       "      <td>10.310000</td>\n",
       "      <td>10.32120</td>\n",
       "    </tr>\n",
       "  </tbody>\n",
       "</table>\n",
       "</div>"
      ],
      "text/plain": [
       "     month  day     Actual  Predicted\n",
       "108      7    8  11.990000   12.15825\n",
       "158      9   17  13.630000   12.80150\n",
       "93       6   16  17.030001   16.64380\n",
       "150      9    4  13.610000   12.73410\n",
       "57       4   24  10.310000   10.32120"
      ]
     },
     "execution_count": 14,
     "metadata": {},
     "output_type": "execute_result"
    }
   ],
   "source": [
    "import seaborn as sns \n",
    "\n",
    "df = pd.DataFrame(X_test)\n",
    "df['Actual'] = y_test\n",
    "df['Predicted'] = y_pred \n",
    "df.head()"
   ]
  },
  {
   "cell_type": "code",
   "execution_count": 15,
   "id": "7c987fcc",
   "metadata": {},
   "outputs": [
    {
     "data": {
      "text/plain": [
       "0.6635500613621302"
      ]
     },
     "execution_count": 15,
     "metadata": {},
     "output_type": "execute_result"
    }
   ],
   "source": [
    "from sklearn.metrics import mean_absolute_error\n",
    "\n",
    "mean_absolute_error(y_pred, y_test)"
   ]
  },
  {
   "cell_type": "code",
   "execution_count": 16,
   "id": "3cc7cc39",
   "metadata": {},
   "outputs": [],
   "source": [
    "from sklearn.metrics import mean_absolute_percentage_error as MAPE"
   ]
  },
  {
   "cell_type": "code",
   "execution_count": 17,
   "id": "693ef550",
   "metadata": {},
   "outputs": [
    {
     "data": {
      "text/plain": [
       "0.046044296872695255"
      ]
     },
     "execution_count": 17,
     "metadata": {},
     "output_type": "execute_result"
    }
   ],
   "source": [
    "MAPE(y_pred, y_test)"
   ]
  },
  {
   "cell_type": "code",
   "execution_count": 18,
   "id": "b3eb2b5e",
   "metadata": {},
   "outputs": [
    {
     "data": {
      "text/html": [
       "<div>\n",
       "<style scoped>\n",
       "    .dataframe tbody tr th:only-of-type {\n",
       "        vertical-align: middle;\n",
       "    }\n",
       "\n",
       "    .dataframe tbody tr th {\n",
       "        vertical-align: top;\n",
       "    }\n",
       "\n",
       "    .dataframe thead th {\n",
       "        text-align: right;\n",
       "    }\n",
       "</style>\n",
       "<table border=\"1\" class=\"dataframe\">\n",
       "  <thead>\n",
       "    <tr style=\"text-align: right;\">\n",
       "      <th></th>\n",
       "      <th>month</th>\n",
       "      <th>day</th>\n",
       "      <th>Actual</th>\n",
       "      <th>Predicted</th>\n",
       "      <th>Predicted Percent Change</th>\n",
       "      <th>Actual Percent Change</th>\n",
       "    </tr>\n",
       "  </thead>\n",
       "  <tbody>\n",
       "    <tr>\n",
       "      <th>108</th>\n",
       "      <td>7</td>\n",
       "      <td>8</td>\n",
       "      <td>11.990000</td>\n",
       "      <td>12.15825</td>\n",
       "      <td>17.751320</td>\n",
       "      <td>16.597163</td>\n",
       "    </tr>\n",
       "    <tr>\n",
       "      <th>158</th>\n",
       "      <td>9</td>\n",
       "      <td>17</td>\n",
       "      <td>13.630000</td>\n",
       "      <td>12.80150</td>\n",
       "      <td>21.884155</td>\n",
       "      <td>26.632429</td>\n",
       "    </tr>\n",
       "    <tr>\n",
       "      <th>93</th>\n",
       "      <td>6</td>\n",
       "      <td>16</td>\n",
       "      <td>17.030001</td>\n",
       "      <td>16.64380</td>\n",
       "      <td>39.917568</td>\n",
       "      <td>41.280096</td>\n",
       "    </tr>\n",
       "    <tr>\n",
       "      <th>150</th>\n",
       "      <td>9</td>\n",
       "      <td>4</td>\n",
       "      <td>13.610000</td>\n",
       "      <td>12.73410</td>\n",
       "      <td>21.470696</td>\n",
       "      <td>26.524612</td>\n",
       "    </tr>\n",
       "    <tr>\n",
       "      <th>57</th>\n",
       "      <td>4</td>\n",
       "      <td>24</td>\n",
       "      <td>10.310000</td>\n",
       "      <td>10.32120</td>\n",
       "      <td>3.112042</td>\n",
       "      <td>3.006793</td>\n",
       "    </tr>\n",
       "  </tbody>\n",
       "</table>\n",
       "</div>"
      ],
      "text/plain": [
       "     month  day     Actual  Predicted  Predicted Percent Change  \\\n",
       "108      7    8  11.990000   12.15825                 17.751320   \n",
       "158      9   17  13.630000   12.80150                 21.884155   \n",
       "93       6   16  17.030001   16.64380                 39.917568   \n",
       "150      9    4  13.610000   12.73410                 21.470696   \n",
       "57       4   24  10.310000   10.32120                  3.112042   \n",
       "\n",
       "     Actual Percent Change  \n",
       "108              16.597163  \n",
       "158              26.632429  \n",
       "93               41.280096  \n",
       "150              26.524612  \n",
       "57                3.006793  "
      ]
     },
     "execution_count": 18,
     "metadata": {},
     "output_type": "execute_result"
    }
   ],
   "source": [
    "#Percent Difference -  (Value1 - Value2)/Value1   * 100 \n",
    "#So if I want to see the percent my investment changed relative to the price I bought it at \n",
    "bought_price = 10\n",
    "predicted_percent = ((df['Predicted'] - bought_price)/df['Predicted']) * 100\n",
    "\n",
    "df['Predicted Percent Change'] = predicted_percent\n",
    "predicted_percent = ((df['Actual'] - bought_price)/df['Actual'])* 100\n",
    "\n",
    "df['Actual Percent Change'] = predicted_percent\n",
    "df.head()\n",
    "\n",
    "#lets see on average how much the stock is off "
   ]
  },
  {
   "cell_type": "code",
   "execution_count": 19,
   "id": "4122bb1b",
   "metadata": {},
   "outputs": [
    {
     "data": {
      "text/plain": [
       "3.3364317518449162"
      ]
     },
     "execution_count": 19,
     "metadata": {},
     "output_type": "execute_result"
    }
   ],
   "source": [
    "mean_absolute_error(df['Predicted Percent Change'], df['Actual Percent Change'])\n",
    "\n",
    "#looks like it will on average be off by 3%"
   ]
  },
  {
   "cell_type": "code",
   "execution_count": 21,
   "id": "21ac2a01",
   "metadata": {},
   "outputs": [],
   "source": [
    "df.to_excel('Stock_info.xlsx')"
   ]
  },
  {
   "cell_type": "code",
   "execution_count": null,
   "id": "92dfa864",
   "metadata": {},
   "outputs": [],
   "source": []
  }
 ],
 "metadata": {
  "kernelspec": {
   "display_name": "Python 3 (ipykernel)",
   "language": "python",
   "name": "python3"
  },
  "language_info": {
   "codemirror_mode": {
    "name": "ipython",
    "version": 3
   },
   "file_extension": ".py",
   "mimetype": "text/x-python",
   "name": "python",
   "nbconvert_exporter": "python",
   "pygments_lexer": "ipython3",
   "version": "3.9.7"
  },
  "varInspector": {
   "cols": {
    "lenName": 16,
    "lenType": 16,
    "lenVar": 40
   },
   "kernels_config": {
    "python": {
     "delete_cmd_postfix": "",
     "delete_cmd_prefix": "del ",
     "library": "var_list.py",
     "varRefreshCmd": "print(var_dic_list())"
    },
    "r": {
     "delete_cmd_postfix": ") ",
     "delete_cmd_prefix": "rm(",
     "library": "var_list.r",
     "varRefreshCmd": "cat(var_dic_list()) "
    }
   },
   "position": {
    "height": "262.844px",
    "left": "-148px",
    "right": "20px",
    "top": "202px",
    "width": "350px"
   },
   "types_to_exclude": [
    "module",
    "function",
    "builtin_function_or_method",
    "instance",
    "_Feature"
   ],
   "window_display": true
  }
 },
 "nbformat": 4,
 "nbformat_minor": 5
}
