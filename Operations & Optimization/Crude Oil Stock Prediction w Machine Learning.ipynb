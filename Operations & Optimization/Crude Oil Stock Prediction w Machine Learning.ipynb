{
 "cells": [
  {
   "cell_type": "code",
   "execution_count": 1,
   "id": "3c095a1f",
   "metadata": {},
   "outputs": [
    {
     "name": "stdout",
     "output_type": "stream",
     "text": [
      "Requirement already satisfied: xgboost in c:\\users\\domin\\anaconda3\\lib\\site-packages (1.6.1)\n",
      "Requirement already satisfied: numpy in c:\\users\\domin\\anaconda3\\lib\\site-packages (from xgboost) (1.22.3)\n",
      "Requirement already satisfied: scipy in c:\\users\\domin\\anaconda3\\lib\\site-packages (from xgboost) (1.8.1)\n"
     ]
    }
   ],
   "source": [
    "!pip install xgboost"
   ]
  },
  {
   "cell_type": "code",
   "execution_count": 2,
   "id": "690d95b9",
   "metadata": {},
   "outputs": [],
   "source": [
    "\n",
    "import pandas as pd\n",
    "import yfinance as yf\n",
    "import datetime\n",
    "import time\n",
    "import requests\n",
    "import io\n",
    "\n",
    "import torch"
   ]
  },
  {
   "cell_type": "code",
   "execution_count": 3,
   "id": "df32ddd9",
   "metadata": {},
   "outputs": [],
   "source": [
    "#stock analysis \n",
    "\n",
    "\n",
    "day = 2\n",
    "start = datetime.datetime(2022,1,day)\n",
    "end = datetime.datetime(2022,4,1)\n",
    "\n",
    "#for future stocks \n",
    "\n",
    "from datetime import datetime, timedelta\n",
    "start_date = datetime(2022, 5, 2)\n",
    "end_date = datetime(2022, 8, 27)\n",
    "    \n",
    "dates = pd.date_range(start_date,end_date-timedelta(days=1),freq='d')\n",
    "\n"
   ]
  },
  {
   "cell_type": "code",
   "execution_count": null,
   "id": "16d3f3ed",
   "metadata": {},
   "outputs": [],
   "source": []
  },
  {
   "cell_type": "code",
   "execution_count": null,
   "id": "ac2ee636",
   "metadata": {},
   "outputs": [],
   "source": []
  },
  {
   "cell_type": "code",
   "execution_count": 4,
   "id": "bec62157",
   "metadata": {},
   "outputs": [],
   "source": [
    "stock = [] \n",
    "i = 'CL=F'\n",
    "stock = yf.download(i, start = start, end = end, progress = False) "
   ]
  },
  {
   "cell_type": "code",
   "execution_count": null,
   "id": "2c9b76ff",
   "metadata": {},
   "outputs": [],
   "source": []
  },
  {
   "cell_type": "code",
   "execution_count": null,
   "id": "8362d9b1",
   "metadata": {},
   "outputs": [],
   "source": []
  },
  {
   "cell_type": "code",
   "execution_count": 5,
   "id": "76eeabed",
   "metadata": {},
   "outputs": [
    {
     "data": {
      "text/html": [
       "<div>\n",
       "<style scoped>\n",
       "    .dataframe tbody tr th:only-of-type {\n",
       "        vertical-align: middle;\n",
       "    }\n",
       "\n",
       "    .dataframe tbody tr th {\n",
       "        vertical-align: top;\n",
       "    }\n",
       "\n",
       "    .dataframe thead th {\n",
       "        text-align: right;\n",
       "    }\n",
       "</style>\n",
       "<table border=\"1\" class=\"dataframe\">\n",
       "  <thead>\n",
       "    <tr style=\"text-align: right;\">\n",
       "      <th></th>\n",
       "      <th>Open</th>\n",
       "      <th>High</th>\n",
       "      <th>Low</th>\n",
       "      <th>Close</th>\n",
       "      <th>Adj Close</th>\n",
       "      <th>Volume</th>\n",
       "    </tr>\n",
       "    <tr>\n",
       "      <th>Date</th>\n",
       "      <th></th>\n",
       "      <th></th>\n",
       "      <th></th>\n",
       "      <th></th>\n",
       "      <th></th>\n",
       "      <th></th>\n",
       "    </tr>\n",
       "  </thead>\n",
       "  <tbody>\n",
       "    <tr>\n",
       "      <th>2022-01-03</th>\n",
       "      <td>75.690002</td>\n",
       "      <td>76.459999</td>\n",
       "      <td>74.269997</td>\n",
       "      <td>76.080002</td>\n",
       "      <td>76.080002</td>\n",
       "      <td>317628</td>\n",
       "    </tr>\n",
       "    <tr>\n",
       "      <th>2022-01-04</th>\n",
       "      <td>76.019997</td>\n",
       "      <td>77.639999</td>\n",
       "      <td>75.699997</td>\n",
       "      <td>76.989998</td>\n",
       "      <td>76.989998</td>\n",
       "      <td>372848</td>\n",
       "    </tr>\n",
       "    <tr>\n",
       "      <th>2022-01-05</th>\n",
       "      <td>77.180000</td>\n",
       "      <td>78.580002</td>\n",
       "      <td>76.510002</td>\n",
       "      <td>77.849998</td>\n",
       "      <td>77.849998</td>\n",
       "      <td>397898</td>\n",
       "    </tr>\n",
       "    <tr>\n",
       "      <th>2022-01-06</th>\n",
       "      <td>77.239998</td>\n",
       "      <td>80.239998</td>\n",
       "      <td>76.730003</td>\n",
       "      <td>79.459999</td>\n",
       "      <td>79.459999</td>\n",
       "      <td>476665</td>\n",
       "    </tr>\n",
       "    <tr>\n",
       "      <th>2022-01-07</th>\n",
       "      <td>79.620003</td>\n",
       "      <td>80.470001</td>\n",
       "      <td>78.519997</td>\n",
       "      <td>78.900002</td>\n",
       "      <td>78.900002</td>\n",
       "      <td>414434</td>\n",
       "    </tr>\n",
       "  </tbody>\n",
       "</table>\n",
       "</div>"
      ],
      "text/plain": [
       "                 Open       High        Low      Close  Adj Close  Volume\n",
       "Date                                                                     \n",
       "2022-01-03  75.690002  76.459999  74.269997  76.080002  76.080002  317628\n",
       "2022-01-04  76.019997  77.639999  75.699997  76.989998  76.989998  372848\n",
       "2022-01-05  77.180000  78.580002  76.510002  77.849998  77.849998  397898\n",
       "2022-01-06  77.239998  80.239998  76.730003  79.459999  79.459999  476665\n",
       "2022-01-07  79.620003  80.470001  78.519997  78.900002  78.900002  414434"
      ]
     },
     "execution_count": 5,
     "metadata": {},
     "output_type": "execute_result"
    }
   ],
   "source": [
    "stock.head()"
   ]
  },
  {
   "cell_type": "code",
   "execution_count": 6,
   "id": "858726a3",
   "metadata": {},
   "outputs": [],
   "source": [
    "stock = yf.download(i, start = start, end = end, progress = False) "
   ]
  },
  {
   "cell_type": "code",
   "execution_count": 7,
   "id": "e20c0290",
   "metadata": {},
   "outputs": [],
   "source": [
    "bought_price = stock['Adj Close']\n"
   ]
  },
  {
   "cell_type": "code",
   "execution_count": 8,
   "id": "535338c3",
   "metadata": {},
   "outputs": [
    {
     "data": {
      "text/plain": [
       "76.08000183105469"
      ]
     },
     "execution_count": 8,
     "metadata": {},
     "output_type": "execute_result"
    }
   ],
   "source": [
    "bought_price = bought_price[0]\n",
    "bought_price"
   ]
  },
  {
   "cell_type": "code",
   "execution_count": 9,
   "id": "c0e6fae3",
   "metadata": {},
   "outputs": [],
   "source": [
    "import datetime"
   ]
  },
  {
   "cell_type": "code",
   "execution_count": 10,
   "id": "378ad8c4",
   "metadata": {},
   "outputs": [],
   "source": [
    "stock.reset_index(inplace=True)\n"
   ]
  },
  {
   "cell_type": "code",
   "execution_count": null,
   "id": "e4a0293b",
   "metadata": {},
   "outputs": [],
   "source": [
    "\n"
   ]
  },
  {
   "cell_type": "code",
   "execution_count": null,
   "id": "08a3b20b",
   "metadata": {},
   "outputs": [],
   "source": []
  },
  {
   "cell_type": "code",
   "execution_count": 11,
   "id": "58fd5e8f",
   "metadata": {},
   "outputs": [],
   "source": [
    "stock['year'] = pd.DatetimeIndex(stock['Date']).year\n",
    "stock['month'] = pd.DatetimeIndex(stock['Date']).month\n",
    "stock['day'] = pd.DatetimeIndex(stock['Date']).day\n",
    "stock['year'] = pd.DatetimeIndex(stock['Date']).year"
   ]
  },
  {
   "cell_type": "code",
   "execution_count": 12,
   "id": "7b2010e2",
   "metadata": {},
   "outputs": [],
   "source": [
    "# lets try to predict the adjusted close with just the day and month"
   ]
  },
  {
   "cell_type": "code",
   "execution_count": 13,
   "id": "1b0a2b58",
   "metadata": {},
   "outputs": [],
   "source": [
    "stock_copy = stock \n",
    "\n",
    "stock = stock[['month', 'day','year',  'Adj Close']]\n",
    "\n",
    "#simple pipeline\n",
    "import sklearn\n",
    "\n",
    "from sklearn.model_selection import train_test_split\n",
    "\n",
    "from sklearn.compose import ColumnTransformer\n",
    "from sklearn.pipeline import Pipeline\n",
    "from sklearn.impute import SimpleImputer\n",
    "from sklearn.preprocessing import StandardScaler\n",
    "y = stock['Adj Close'] \n",
    "x = stock.drop('Adj Close', axis = 1)\n",
    "\n",
    "\n",
    "X_train, X_test, y_train, y_test = train_test_split(x, y, test_size = 0.20, random_state = 24, \n",
    "                                                    shuffle = False)\n",
    "\n",
    "from sklearn.ensemble import RandomForestRegressor\n",
    "\n",
    "param_grid = { \n",
    "    'n_estimators': [200, 500, 1000, 2000, 5000], \n",
    "    'max_depth': [10,  50, 110, None]\n",
    "}\n",
    "from sklearn.model_selection import GridSearchCV\n",
    "\n",
    "    \n",
    "\n",
    "\n"
   ]
  },
  {
   "cell_type": "code",
   "execution_count": 14,
   "id": "738eb84c",
   "metadata": {},
   "outputs": [
    {
     "data": {
      "text/html": [
       "<style>#sk-container-id-1 {color: black;background-color: white;}#sk-container-id-1 pre{padding: 0;}#sk-container-id-1 div.sk-toggleable {background-color: white;}#sk-container-id-1 label.sk-toggleable__label {cursor: pointer;display: block;width: 100%;margin-bottom: 0;padding: 0.3em;box-sizing: border-box;text-align: center;}#sk-container-id-1 label.sk-toggleable__label-arrow:before {content: \"▸\";float: left;margin-right: 0.25em;color: #696969;}#sk-container-id-1 label.sk-toggleable__label-arrow:hover:before {color: black;}#sk-container-id-1 div.sk-estimator:hover label.sk-toggleable__label-arrow:before {color: black;}#sk-container-id-1 div.sk-toggleable__content {max-height: 0;max-width: 0;overflow: hidden;text-align: left;background-color: #f0f8ff;}#sk-container-id-1 div.sk-toggleable__content pre {margin: 0.2em;color: black;border-radius: 0.25em;background-color: #f0f8ff;}#sk-container-id-1 input.sk-toggleable__control:checked~div.sk-toggleable__content {max-height: 200px;max-width: 100%;overflow: auto;}#sk-container-id-1 input.sk-toggleable__control:checked~label.sk-toggleable__label-arrow:before {content: \"▾\";}#sk-container-id-1 div.sk-estimator input.sk-toggleable__control:checked~label.sk-toggleable__label {background-color: #d4ebff;}#sk-container-id-1 div.sk-label input.sk-toggleable__control:checked~label.sk-toggleable__label {background-color: #d4ebff;}#sk-container-id-1 input.sk-hidden--visually {border: 0;clip: rect(1px 1px 1px 1px);clip: rect(1px, 1px, 1px, 1px);height: 1px;margin: -1px;overflow: hidden;padding: 0;position: absolute;width: 1px;}#sk-container-id-1 div.sk-estimator {font-family: monospace;background-color: #f0f8ff;border: 1px dotted black;border-radius: 0.25em;box-sizing: border-box;margin-bottom: 0.5em;}#sk-container-id-1 div.sk-estimator:hover {background-color: #d4ebff;}#sk-container-id-1 div.sk-parallel-item::after {content: \"\";width: 100%;border-bottom: 1px solid gray;flex-grow: 1;}#sk-container-id-1 div.sk-label:hover label.sk-toggleable__label {background-color: #d4ebff;}#sk-container-id-1 div.sk-serial::before {content: \"\";position: absolute;border-left: 1px solid gray;box-sizing: border-box;top: 0;bottom: 0;left: 50%;z-index: 0;}#sk-container-id-1 div.sk-serial {display: flex;flex-direction: column;align-items: center;background-color: white;padding-right: 0.2em;padding-left: 0.2em;position: relative;}#sk-container-id-1 div.sk-item {position: relative;z-index: 1;}#sk-container-id-1 div.sk-parallel {display: flex;align-items: stretch;justify-content: center;background-color: white;position: relative;}#sk-container-id-1 div.sk-item::before, #sk-container-id-1 div.sk-parallel-item::before {content: \"\";position: absolute;border-left: 1px solid gray;box-sizing: border-box;top: 0;bottom: 0;left: 50%;z-index: -1;}#sk-container-id-1 div.sk-parallel-item {display: flex;flex-direction: column;z-index: 1;position: relative;background-color: white;}#sk-container-id-1 div.sk-parallel-item:first-child::after {align-self: flex-end;width: 50%;}#sk-container-id-1 div.sk-parallel-item:last-child::after {align-self: flex-start;width: 50%;}#sk-container-id-1 div.sk-parallel-item:only-child::after {width: 0;}#sk-container-id-1 div.sk-dashed-wrapped {border: 1px dashed gray;margin: 0 0.4em 0.5em 0.4em;box-sizing: border-box;padding-bottom: 0.4em;background-color: white;}#sk-container-id-1 div.sk-label label {font-family: monospace;font-weight: bold;display: inline-block;line-height: 1.2em;}#sk-container-id-1 div.sk-label-container {text-align: center;}#sk-container-id-1 div.sk-container {/* jupyter's `normalize.less` sets `[hidden] { display: none; }` but bootstrap.min.css set `[hidden] { display: none !important; }` so we also need the `!important` here to be able to override the default hidden behavior on the sphinx rendered scikit-learn.org. See: https://github.com/scikit-learn/scikit-learn/issues/21755 */display: inline-block !important;position: relative;}#sk-container-id-1 div.sk-text-repr-fallback {display: none;}</style><div id=\"sk-container-id-1\" class=\"sk-top-container\"><div class=\"sk-text-repr-fallback\"><pre>GridSearchCV(cv=3, estimator=RandomForestRegressor(random_state=42),\n",
       "             param_grid={&#x27;max_depth&#x27;: [10, 50, 110, None],\n",
       "                         &#x27;n_estimators&#x27;: [200, 500, 1000, 2000, 5000]})</pre><b>In a Jupyter environment, please rerun this cell to show the HTML representation or trust the notebook. <br />On GitHub, the HTML representation is unable to render, please try loading this page with nbviewer.org.</b></div><div class=\"sk-container\" hidden><div class=\"sk-item sk-dashed-wrapped\"><div class=\"sk-label-container\"><div class=\"sk-label sk-toggleable\"><input class=\"sk-toggleable__control sk-hidden--visually\" id=\"sk-estimator-id-1\" type=\"checkbox\" ><label for=\"sk-estimator-id-1\" class=\"sk-toggleable__label sk-toggleable__label-arrow\">GridSearchCV</label><div class=\"sk-toggleable__content\"><pre>GridSearchCV(cv=3, estimator=RandomForestRegressor(random_state=42),\n",
       "             param_grid={&#x27;max_depth&#x27;: [10, 50, 110, None],\n",
       "                         &#x27;n_estimators&#x27;: [200, 500, 1000, 2000, 5000]})</pre></div></div></div><div class=\"sk-parallel\"><div class=\"sk-parallel-item\"><div class=\"sk-item\"><div class=\"sk-label-container\"><div class=\"sk-label sk-toggleable\"><input class=\"sk-toggleable__control sk-hidden--visually\" id=\"sk-estimator-id-2\" type=\"checkbox\" ><label for=\"sk-estimator-id-2\" class=\"sk-toggleable__label sk-toggleable__label-arrow\">estimator: RandomForestRegressor</label><div class=\"sk-toggleable__content\"><pre>RandomForestRegressor(random_state=42)</pre></div></div></div><div class=\"sk-serial\"><div class=\"sk-item\"><div class=\"sk-estimator sk-toggleable\"><input class=\"sk-toggleable__control sk-hidden--visually\" id=\"sk-estimator-id-3\" type=\"checkbox\" ><label for=\"sk-estimator-id-3\" class=\"sk-toggleable__label sk-toggleable__label-arrow\">RandomForestRegressor</label><div class=\"sk-toggleable__content\"><pre>RandomForestRegressor(random_state=42)</pre></div></div></div></div></div></div></div></div></div></div>"
      ],
      "text/plain": [
       "GridSearchCV(cv=3, estimator=RandomForestRegressor(random_state=42),\n",
       "             param_grid={'max_depth': [10, 50, 110, None],\n",
       "                         'n_estimators': [200, 500, 1000, 2000, 5000]})"
      ]
     },
     "execution_count": 14,
     "metadata": {},
     "output_type": "execute_result"
    }
   ],
   "source": [
    "model = GridSearchCV(RandomForestRegressor(random_state = 42), param_grid, cv = 3)\n",
    "\n",
    "    \n",
    "model.fit(X_train, y_train)"
   ]
  },
  {
   "cell_type": "code",
   "execution_count": 15,
   "id": "159e9e26",
   "metadata": {},
   "outputs": [],
   "source": [
    "y_pred = model.predict(X_test)\n",
    "    \n",
    "    "
   ]
  },
  {
   "cell_type": "code",
   "execution_count": 16,
   "id": "1e7aa49d",
   "metadata": {},
   "outputs": [],
   "source": [
    "# lets see how accurate it actually is "
   ]
  },
  {
   "cell_type": "code",
   "execution_count": 17,
   "id": "b8d81204",
   "metadata": {
    "scrolled": true
   },
   "outputs": [
    {
     "data": {
      "text/html": [
       "<div>\n",
       "<style scoped>\n",
       "    .dataframe tbody tr th:only-of-type {\n",
       "        vertical-align: middle;\n",
       "    }\n",
       "\n",
       "    .dataframe tbody tr th {\n",
       "        vertical-align: top;\n",
       "    }\n",
       "\n",
       "    .dataframe thead th {\n",
       "        text-align: right;\n",
       "    }\n",
       "</style>\n",
       "<table border=\"1\" class=\"dataframe\">\n",
       "  <thead>\n",
       "    <tr style=\"text-align: right;\">\n",
       "      <th></th>\n",
       "      <th>month</th>\n",
       "      <th>day</th>\n",
       "      <th>year</th>\n",
       "      <th>Actual</th>\n",
       "      <th>Predicted</th>\n",
       "    </tr>\n",
       "  </thead>\n",
       "  <tbody>\n",
       "    <tr>\n",
       "      <th>56</th>\n",
       "      <td>3</td>\n",
       "      <td>24</td>\n",
       "      <td>2022</td>\n",
       "      <td>112.339996</td>\n",
       "      <td>113.484681</td>\n",
       "    </tr>\n",
       "    <tr>\n",
       "      <th>57</th>\n",
       "      <td>3</td>\n",
       "      <td>25</td>\n",
       "      <td>2022</td>\n",
       "      <td>113.900002</td>\n",
       "      <td>113.484681</td>\n",
       "    </tr>\n",
       "    <tr>\n",
       "      <th>58</th>\n",
       "      <td>3</td>\n",
       "      <td>28</td>\n",
       "      <td>2022</td>\n",
       "      <td>105.959999</td>\n",
       "      <td>113.484681</td>\n",
       "    </tr>\n",
       "    <tr>\n",
       "      <th>59</th>\n",
       "      <td>3</td>\n",
       "      <td>29</td>\n",
       "      <td>2022</td>\n",
       "      <td>104.239998</td>\n",
       "      <td>113.484681</td>\n",
       "    </tr>\n",
       "    <tr>\n",
       "      <th>60</th>\n",
       "      <td>3</td>\n",
       "      <td>30</td>\n",
       "      <td>2022</td>\n",
       "      <td>107.820000</td>\n",
       "      <td>113.484681</td>\n",
       "    </tr>\n",
       "  </tbody>\n",
       "</table>\n",
       "</div>"
      ],
      "text/plain": [
       "    month  day  year      Actual   Predicted\n",
       "56      3   24  2022  112.339996  113.484681\n",
       "57      3   25  2022  113.900002  113.484681\n",
       "58      3   28  2022  105.959999  113.484681\n",
       "59      3   29  2022  104.239998  113.484681\n",
       "60      3   30  2022  107.820000  113.484681"
      ]
     },
     "execution_count": 17,
     "metadata": {},
     "output_type": "execute_result"
    }
   ],
   "source": [
    "import seaborn as sns \n",
    "\n",
    "df = pd.DataFrame(X_test)\n",
    "df['Actual'] = y_test\n",
    "df['Predicted'] = y_pred \n",
    "df.head()"
   ]
  },
  {
   "cell_type": "code",
   "execution_count": 18,
   "id": "b3d5d9af",
   "metadata": {},
   "outputs": [
    {
     "data": {
      "text/plain": [
       "6.304234049115863"
      ]
     },
     "execution_count": 18,
     "metadata": {},
     "output_type": "execute_result"
    }
   ],
   "source": [
    "from sklearn.metrics import mean_absolute_error\n",
    "\n",
    "mean_absolute_error(y_pred, y_test)\n",
    "\n",
    "#how much the price is off by "
   ]
  },
  {
   "cell_type": "code",
   "execution_count": 19,
   "id": "b4252f09",
   "metadata": {},
   "outputs": [],
   "source": [
    "from sklearn.metrics import mean_absolute_percentage_error as MAPE"
   ]
  },
  {
   "cell_type": "code",
   "execution_count": 20,
   "id": "1839f152",
   "metadata": {},
   "outputs": [
    {
     "data": {
      "text/plain": [
       "0.05614979861326449"
      ]
     },
     "execution_count": 20,
     "metadata": {},
     "output_type": "execute_result"
    }
   ],
   "source": [
    "MAPE(y_pred, y_test)"
   ]
  },
  {
   "cell_type": "code",
   "execution_count": 21,
   "id": "cbf48004",
   "metadata": {
    "scrolled": true
   },
   "outputs": [
    {
     "data": {
      "text/html": [
       "<div>\n",
       "<style scoped>\n",
       "    .dataframe tbody tr th:only-of-type {\n",
       "        vertical-align: middle;\n",
       "    }\n",
       "\n",
       "    .dataframe tbody tr th {\n",
       "        vertical-align: top;\n",
       "    }\n",
       "\n",
       "    .dataframe thead th {\n",
       "        text-align: right;\n",
       "    }\n",
       "</style>\n",
       "<table border=\"1\" class=\"dataframe\">\n",
       "  <thead>\n",
       "    <tr style=\"text-align: right;\">\n",
       "      <th></th>\n",
       "      <th>month</th>\n",
       "      <th>day</th>\n",
       "      <th>year</th>\n",
       "      <th>Actual</th>\n",
       "      <th>Predicted</th>\n",
       "      <th>Predicted Percent Change</th>\n",
       "      <th>Actual Percent Change</th>\n",
       "    </tr>\n",
       "  </thead>\n",
       "  <tbody>\n",
       "    <tr>\n",
       "      <th>56</th>\n",
       "      <td>3</td>\n",
       "      <td>24</td>\n",
       "      <td>2022</td>\n",
       "      <td>112.339996</td>\n",
       "      <td>113.484681</td>\n",
       "      <td>32.960113</td>\n",
       "      <td>32.277012</td>\n",
       "    </tr>\n",
       "    <tr>\n",
       "      <th>57</th>\n",
       "      <td>3</td>\n",
       "      <td>25</td>\n",
       "      <td>2022</td>\n",
       "      <td>113.900002</td>\n",
       "      <td>113.484681</td>\n",
       "      <td>32.960113</td>\n",
       "      <td>33.204565</td>\n",
       "    </tr>\n",
       "    <tr>\n",
       "      <th>58</th>\n",
       "      <td>3</td>\n",
       "      <td>28</td>\n",
       "      <td>2022</td>\n",
       "      <td>105.959999</td>\n",
       "      <td>113.484681</td>\n",
       "      <td>32.960113</td>\n",
       "      <td>28.199318</td>\n",
       "    </tr>\n",
       "    <tr>\n",
       "      <th>59</th>\n",
       "      <td>3</td>\n",
       "      <td>29</td>\n",
       "      <td>2022</td>\n",
       "      <td>104.239998</td>\n",
       "      <td>113.484681</td>\n",
       "      <td>32.960113</td>\n",
       "      <td>27.014578</td>\n",
       "    </tr>\n",
       "    <tr>\n",
       "      <th>60</th>\n",
       "      <td>3</td>\n",
       "      <td>30</td>\n",
       "      <td>2022</td>\n",
       "      <td>107.820000</td>\n",
       "      <td>113.484681</td>\n",
       "      <td>32.960113</td>\n",
       "      <td>29.437950</td>\n",
       "    </tr>\n",
       "  </tbody>\n",
       "</table>\n",
       "</div>"
      ],
      "text/plain": [
       "    month  day  year      Actual   Predicted  Predicted Percent Change  \\\n",
       "56      3   24  2022  112.339996  113.484681                 32.960113   \n",
       "57      3   25  2022  113.900002  113.484681                 32.960113   \n",
       "58      3   28  2022  105.959999  113.484681                 32.960113   \n",
       "59      3   29  2022  104.239998  113.484681                 32.960113   \n",
       "60      3   30  2022  107.820000  113.484681                 32.960113   \n",
       "\n",
       "    Actual Percent Change  \n",
       "56              32.277012  \n",
       "57              33.204565  \n",
       "58              28.199318  \n",
       "59              27.014578  \n",
       "60              29.437950  "
      ]
     },
     "execution_count": 21,
     "metadata": {},
     "output_type": "execute_result"
    }
   ],
   "source": [
    "#Percent Difference -  (Value1 - Value2)/Value1   * 100 \n",
    "#So if I want to see the percent my investment changed relative to the price I bought it at \n",
    "\n",
    "predicted_percent = ((df['Predicted'] - bought_price)/df['Predicted']) * 100\n",
    "\n",
    "df['Predicted Percent Change'] = predicted_percent\n",
    "predicted_percent = ((df['Actual'] - bought_price)/df['Actual'])* 100\n",
    "\n",
    "df['Actual Percent Change'] = predicted_percent\n",
    "df.head()\n",
    "\n",
    "#lets see on average how much the stock is off "
   ]
  },
  {
   "cell_type": "code",
   "execution_count": null,
   "id": "213d109a",
   "metadata": {},
   "outputs": [],
   "source": []
  },
  {
   "cell_type": "code",
   "execution_count": null,
   "id": "c0291119",
   "metadata": {},
   "outputs": [],
   "source": []
  },
  {
   "cell_type": "code",
   "execution_count": null,
   "id": "371b081f",
   "metadata": {},
   "outputs": [],
   "source": []
  },
  {
   "cell_type": "code",
   "execution_count": 22,
   "id": "a38e3edf",
   "metadata": {
    "scrolled": true
   },
   "outputs": [
    {
     "data": {
      "text/plain": [
       "4.140770283461925"
      ]
     },
     "execution_count": 22,
     "metadata": {},
     "output_type": "execute_result"
    }
   ],
   "source": [
    "#####\n",
    "\n",
    "\n",
    "mean_absolute_error(df['Predicted Percent Change'], df['Actual Percent Change'])\n",
    "\n",
    "\n",
    "\n",
    "#####"
   ]
  },
  {
   "cell_type": "code",
   "execution_count": null,
   "id": "e1b56b91",
   "metadata": {},
   "outputs": [],
   "source": []
  },
  {
   "cell_type": "code",
   "execution_count": null,
   "id": "48161f39",
   "metadata": {},
   "outputs": [],
   "source": []
  },
  {
   "cell_type": "code",
   "execution_count": null,
   "id": "ff9e33d5",
   "metadata": {},
   "outputs": [],
   "source": []
  },
  {
   "cell_type": "code",
   "execution_count": null,
   "id": "0038f0ab",
   "metadata": {},
   "outputs": [],
   "source": []
  },
  {
   "cell_type": "code",
   "execution_count": 23,
   "id": "80b8c2ae",
   "metadata": {
    "scrolled": true
   },
   "outputs": [
    {
     "data": {
      "text/html": [
       "<div>\n",
       "<style scoped>\n",
       "    .dataframe tbody tr th:only-of-type {\n",
       "        vertical-align: middle;\n",
       "    }\n",
       "\n",
       "    .dataframe tbody tr th {\n",
       "        vertical-align: top;\n",
       "    }\n",
       "\n",
       "    .dataframe thead th {\n",
       "        text-align: right;\n",
       "    }\n",
       "</style>\n",
       "<table border=\"1\" class=\"dataframe\">\n",
       "  <thead>\n",
       "    <tr style=\"text-align: right;\">\n",
       "      <th></th>\n",
       "      <th>month</th>\n",
       "      <th>day</th>\n",
       "      <th>year</th>\n",
       "      <th>Actual</th>\n",
       "      <th>Predicted</th>\n",
       "      <th>Predicted Percent Change</th>\n",
       "      <th>Actual Percent Change</th>\n",
       "      <th>Datetime</th>\n",
       "    </tr>\n",
       "  </thead>\n",
       "  <tbody>\n",
       "    <tr>\n",
       "      <th>56</th>\n",
       "      <td>3</td>\n",
       "      <td>24</td>\n",
       "      <td>2022</td>\n",
       "      <td>112.339996</td>\n",
       "      <td>113.484681</td>\n",
       "      <td>32.960113</td>\n",
       "      <td>32.277012</td>\n",
       "      <td>2022-03-24</td>\n",
       "    </tr>\n",
       "    <tr>\n",
       "      <th>57</th>\n",
       "      <td>3</td>\n",
       "      <td>25</td>\n",
       "      <td>2022</td>\n",
       "      <td>113.900002</td>\n",
       "      <td>113.484681</td>\n",
       "      <td>32.960113</td>\n",
       "      <td>33.204565</td>\n",
       "      <td>2022-03-25</td>\n",
       "    </tr>\n",
       "    <tr>\n",
       "      <th>58</th>\n",
       "      <td>3</td>\n",
       "      <td>28</td>\n",
       "      <td>2022</td>\n",
       "      <td>105.959999</td>\n",
       "      <td>113.484681</td>\n",
       "      <td>32.960113</td>\n",
       "      <td>28.199318</td>\n",
       "      <td>2022-03-28</td>\n",
       "    </tr>\n",
       "    <tr>\n",
       "      <th>59</th>\n",
       "      <td>3</td>\n",
       "      <td>29</td>\n",
       "      <td>2022</td>\n",
       "      <td>104.239998</td>\n",
       "      <td>113.484681</td>\n",
       "      <td>32.960113</td>\n",
       "      <td>27.014578</td>\n",
       "      <td>2022-03-29</td>\n",
       "    </tr>\n",
       "    <tr>\n",
       "      <th>60</th>\n",
       "      <td>3</td>\n",
       "      <td>30</td>\n",
       "      <td>2022</td>\n",
       "      <td>107.820000</td>\n",
       "      <td>113.484681</td>\n",
       "      <td>32.960113</td>\n",
       "      <td>29.437950</td>\n",
       "      <td>2022-03-30</td>\n",
       "    </tr>\n",
       "    <tr>\n",
       "      <th>61</th>\n",
       "      <td>3</td>\n",
       "      <td>31</td>\n",
       "      <td>2022</td>\n",
       "      <td>100.279999</td>\n",
       "      <td>113.484681</td>\n",
       "      <td>32.960113</td>\n",
       "      <td>24.132426</td>\n",
       "      <td>2022-03-31</td>\n",
       "    </tr>\n",
       "    <tr>\n",
       "      <th>62</th>\n",
       "      <td>4</td>\n",
       "      <td>1</td>\n",
       "      <td>2022</td>\n",
       "      <td>99.269997</td>\n",
       "      <td>106.200902</td>\n",
       "      <td>28.362188</td>\n",
       "      <td>23.360527</td>\n",
       "      <td>2022-04-01</td>\n",
       "    </tr>\n",
       "  </tbody>\n",
       "</table>\n",
       "</div>"
      ],
      "text/plain": [
       "    month  day  year      Actual   Predicted  Predicted Percent Change  \\\n",
       "56      3   24  2022  112.339996  113.484681                 32.960113   \n",
       "57      3   25  2022  113.900002  113.484681                 32.960113   \n",
       "58      3   28  2022  105.959999  113.484681                 32.960113   \n",
       "59      3   29  2022  104.239998  113.484681                 32.960113   \n",
       "60      3   30  2022  107.820000  113.484681                 32.960113   \n",
       "61      3   31  2022  100.279999  113.484681                 32.960113   \n",
       "62      4    1  2022   99.269997  106.200902                 28.362188   \n",
       "\n",
       "    Actual Percent Change   Datetime  \n",
       "56              32.277012 2022-03-24  \n",
       "57              33.204565 2022-03-25  \n",
       "58              28.199318 2022-03-28  \n",
       "59              27.014578 2022-03-29  \n",
       "60              29.437950 2022-03-30  \n",
       "61              24.132426 2022-03-31  \n",
       "62              23.360527 2022-04-01  "
      ]
     },
     "execution_count": 23,
     "metadata": {},
     "output_type": "execute_result"
    }
   ],
   "source": [
    "df = df.sort_values(by = ['month','day'])\n",
    "\n",
    "df['Datetime'] = pd.to_datetime( df[['year', 'month', 'day']])\n",
    "\n",
    "df"
   ]
  },
  {
   "cell_type": "code",
   "execution_count": null,
   "id": "c9b7cfb9",
   "metadata": {},
   "outputs": [],
   "source": [
    "\n"
   ]
  },
  {
   "cell_type": "code",
   "execution_count": 24,
   "id": "8304ac73",
   "metadata": {},
   "outputs": [],
   "source": [
    "\n",
    "year = pd.DatetimeIndex(dates).year\n",
    "month = pd.DatetimeIndex(dates).month\n",
    "day = pd.DatetimeIndex(dates).day\n",
    "\n",
    "date_columns = ['month', 'day', 'year'] \n",
    "\n",
    "future_dates = pd.DataFrame({'month': month, 'day': day, 'year': year}, columns = date_columns)\n",
    "\n",
    "\n"
   ]
  },
  {
   "cell_type": "code",
   "execution_count": 25,
   "id": "740b3a7e",
   "metadata": {},
   "outputs": [],
   "source": [
    "future_predict = model.predict(future_dates)\n",
    "future_dates['projected values'] = future_predict\n"
   ]
  },
  {
   "cell_type": "code",
   "execution_count": 26,
   "id": "0b3ec91c",
   "metadata": {},
   "outputs": [
    {
     "data": {
      "text/html": [
       "<div>\n",
       "<style scoped>\n",
       "    .dataframe tbody tr th:only-of-type {\n",
       "        vertical-align: middle;\n",
       "    }\n",
       "\n",
       "    .dataframe tbody tr th {\n",
       "        vertical-align: top;\n",
       "    }\n",
       "\n",
       "    .dataframe thead th {\n",
       "        text-align: right;\n",
       "    }\n",
       "</style>\n",
       "<table border=\"1\" class=\"dataframe\">\n",
       "  <thead>\n",
       "    <tr style=\"text-align: right;\">\n",
       "      <th></th>\n",
       "      <th>month</th>\n",
       "      <th>day</th>\n",
       "      <th>year</th>\n",
       "      <th>projected values</th>\n",
       "    </tr>\n",
       "  </thead>\n",
       "  <tbody>\n",
       "    <tr>\n",
       "      <th>0</th>\n",
       "      <td>5</td>\n",
       "      <td>2</td>\n",
       "      <td>2022</td>\n",
       "      <td>108.997810</td>\n",
       "    </tr>\n",
       "    <tr>\n",
       "      <th>1</th>\n",
       "      <td>5</td>\n",
       "      <td>3</td>\n",
       "      <td>2022</td>\n",
       "      <td>108.990709</td>\n",
       "    </tr>\n",
       "    <tr>\n",
       "      <th>2</th>\n",
       "      <td>5</td>\n",
       "      <td>4</td>\n",
       "      <td>2022</td>\n",
       "      <td>113.087020</td>\n",
       "    </tr>\n",
       "    <tr>\n",
       "      <th>3</th>\n",
       "      <td>5</td>\n",
       "      <td>5</td>\n",
       "      <td>2022</td>\n",
       "      <td>113.951690</td>\n",
       "    </tr>\n",
       "    <tr>\n",
       "      <th>4</th>\n",
       "      <td>5</td>\n",
       "      <td>6</td>\n",
       "      <td>2022</td>\n",
       "      <td>118.419631</td>\n",
       "    </tr>\n",
       "  </tbody>\n",
       "</table>\n",
       "</div>"
      ],
      "text/plain": [
       "   month  day  year  projected values\n",
       "0      5    2  2022        108.997810\n",
       "1      5    3  2022        108.990709\n",
       "2      5    4  2022        113.087020\n",
       "3      5    5  2022        113.951690\n",
       "4      5    6  2022        118.419631"
      ]
     },
     "execution_count": 26,
     "metadata": {},
     "output_type": "execute_result"
    }
   ],
   "source": [
    "future_dates.head()"
   ]
  },
  {
   "cell_type": "code",
   "execution_count": 27,
   "id": "075c003e",
   "metadata": {},
   "outputs": [],
   "source": [
    "future_dates['percent change'] = ((future_dates['projected values'] - bought_price)/(future_dates['projected values'])) * 100 "
   ]
  },
  {
   "cell_type": "code",
   "execution_count": 28,
   "id": "5962d043",
   "metadata": {},
   "outputs": [
    {
     "data": {
      "text/html": [
       "<div>\n",
       "<style scoped>\n",
       "    .dataframe tbody tr th:only-of-type {\n",
       "        vertical-align: middle;\n",
       "    }\n",
       "\n",
       "    .dataframe tbody tr th {\n",
       "        vertical-align: top;\n",
       "    }\n",
       "\n",
       "    .dataframe thead th {\n",
       "        text-align: right;\n",
       "    }\n",
       "</style>\n",
       "<table border=\"1\" class=\"dataframe\">\n",
       "  <thead>\n",
       "    <tr style=\"text-align: right;\">\n",
       "      <th></th>\n",
       "      <th>month</th>\n",
       "      <th>day</th>\n",
       "      <th>year</th>\n",
       "      <th>projected values</th>\n",
       "      <th>percent change</th>\n",
       "      <th>DateTime</th>\n",
       "    </tr>\n",
       "  </thead>\n",
       "  <tbody>\n",
       "    <tr>\n",
       "      <th>0</th>\n",
       "      <td>5</td>\n",
       "      <td>2</td>\n",
       "      <td>2022</td>\n",
       "      <td>108.997810</td>\n",
       "      <td>30.200431</td>\n",
       "      <td>2022-05-02</td>\n",
       "    </tr>\n",
       "    <tr>\n",
       "      <th>1</th>\n",
       "      <td>5</td>\n",
       "      <td>3</td>\n",
       "      <td>2022</td>\n",
       "      <td>108.990709</td>\n",
       "      <td>30.195883</td>\n",
       "      <td>2022-05-03</td>\n",
       "    </tr>\n",
       "    <tr>\n",
       "      <th>2</th>\n",
       "      <td>5</td>\n",
       "      <td>4</td>\n",
       "      <td>2022</td>\n",
       "      <td>113.087020</td>\n",
       "      <td>32.724373</td>\n",
       "      <td>2022-05-04</td>\n",
       "    </tr>\n",
       "    <tr>\n",
       "      <th>3</th>\n",
       "      <td>5</td>\n",
       "      <td>5</td>\n",
       "      <td>2022</td>\n",
       "      <td>113.951690</td>\n",
       "      <td>33.234863</td>\n",
       "      <td>2022-05-05</td>\n",
       "    </tr>\n",
       "    <tr>\n",
       "      <th>4</th>\n",
       "      <td>5</td>\n",
       "      <td>6</td>\n",
       "      <td>2022</td>\n",
       "      <td>118.419631</td>\n",
       "      <td>35.753894</td>\n",
       "      <td>2022-05-06</td>\n",
       "    </tr>\n",
       "    <tr>\n",
       "      <th>...</th>\n",
       "      <td>...</td>\n",
       "      <td>...</td>\n",
       "      <td>...</td>\n",
       "      <td>...</td>\n",
       "      <td>...</td>\n",
       "      <td>...</td>\n",
       "    </tr>\n",
       "    <tr>\n",
       "      <th>112</th>\n",
       "      <td>8</td>\n",
       "      <td>22</td>\n",
       "      <td>2022</td>\n",
       "      <td>111.791652</td>\n",
       "      <td>31.944827</td>\n",
       "      <td>2022-08-22</td>\n",
       "    </tr>\n",
       "    <tr>\n",
       "      <th>113</th>\n",
       "      <td>8</td>\n",
       "      <td>23</td>\n",
       "      <td>2022</td>\n",
       "      <td>113.484681</td>\n",
       "      <td>32.960113</td>\n",
       "      <td>2022-08-23</td>\n",
       "    </tr>\n",
       "    <tr>\n",
       "      <th>114</th>\n",
       "      <td>8</td>\n",
       "      <td>24</td>\n",
       "      <td>2022</td>\n",
       "      <td>113.484681</td>\n",
       "      <td>32.960113</td>\n",
       "      <td>2022-08-24</td>\n",
       "    </tr>\n",
       "    <tr>\n",
       "      <th>115</th>\n",
       "      <td>8</td>\n",
       "      <td>25</td>\n",
       "      <td>2022</td>\n",
       "      <td>113.484681</td>\n",
       "      <td>32.960113</td>\n",
       "      <td>2022-08-25</td>\n",
       "    </tr>\n",
       "    <tr>\n",
       "      <th>116</th>\n",
       "      <td>8</td>\n",
       "      <td>26</td>\n",
       "      <td>2022</td>\n",
       "      <td>113.484681</td>\n",
       "      <td>32.960113</td>\n",
       "      <td>2022-08-26</td>\n",
       "    </tr>\n",
       "  </tbody>\n",
       "</table>\n",
       "<p>117 rows × 6 columns</p>\n",
       "</div>"
      ],
      "text/plain": [
       "     month  day  year  projected values  percent change   DateTime\n",
       "0        5    2  2022        108.997810       30.200431 2022-05-02\n",
       "1        5    3  2022        108.990709       30.195883 2022-05-03\n",
       "2        5    4  2022        113.087020       32.724373 2022-05-04\n",
       "3        5    5  2022        113.951690       33.234863 2022-05-05\n",
       "4        5    6  2022        118.419631       35.753894 2022-05-06\n",
       "..     ...  ...   ...               ...             ...        ...\n",
       "112      8   22  2022        111.791652       31.944827 2022-08-22\n",
       "113      8   23  2022        113.484681       32.960113 2022-08-23\n",
       "114      8   24  2022        113.484681       32.960113 2022-08-24\n",
       "115      8   25  2022        113.484681       32.960113 2022-08-25\n",
       "116      8   26  2022        113.484681       32.960113 2022-08-26\n",
       "\n",
       "[117 rows x 6 columns]"
      ]
     },
     "execution_count": 28,
     "metadata": {},
     "output_type": "execute_result"
    }
   ],
   "source": [
    "future_dates['DateTime'] = dates\n",
    "future_dates"
   ]
  },
  {
   "cell_type": "code",
   "execution_count": null,
   "id": "51232bc1",
   "metadata": {},
   "outputs": [],
   "source": []
  },
  {
   "cell_type": "code",
   "execution_count": null,
   "id": "1d4029e1",
   "metadata": {},
   "outputs": [],
   "source": []
  },
  {
   "cell_type": "code",
   "execution_count": 29,
   "id": "1095f8c8",
   "metadata": {},
   "outputs": [],
   "source": [
    "df.to_excel('Stock_info.xlsx')\n",
    "future_dates.to_excel('Future_stock_prices4.xlsx')"
   ]
  },
  {
   "cell_type": "code",
   "execution_count": null,
   "id": "4ceea2b4",
   "metadata": {},
   "outputs": [],
   "source": []
  },
  {
   "cell_type": "code",
   "execution_count": null,
   "id": "c999efbb",
   "metadata": {},
   "outputs": [],
   "source": []
  },
  {
   "cell_type": "code",
   "execution_count": 30,
   "id": "40298b14",
   "metadata": {},
   "outputs": [],
   "source": [
    "import matplotlib.pyplot as plt\n",
    "import numpy as np\n",
    "\n",
    "\n",
    "\n",
    "df_temp = df[['Predicted Percent Change', 'Actual Percent Change']]\n"
   ]
  },
  {
   "cell_type": "code",
   "execution_count": null,
   "id": "31d80a42",
   "metadata": {},
   "outputs": [],
   "source": []
  },
  {
   "cell_type": "code",
   "execution_count": null,
   "id": "e5923ed2",
   "metadata": {},
   "outputs": [],
   "source": []
  },
  {
   "cell_type": "code",
   "execution_count": null,
   "id": "81784f39",
   "metadata": {},
   "outputs": [],
   "source": []
  },
  {
   "cell_type": "code",
   "execution_count": 31,
   "id": "ceef1af0",
   "metadata": {},
   "outputs": [
    {
     "data": {
      "image/png": "[encoded data removed]",
      "text/plain": [
       "<Figure size 432x288 with 1 Axes>"
      ]
     },
     "metadata": {
      "needs_background": "light"
     },
     "output_type": "display_data"
    }
   ],
   "source": [
    "df_temp.plot(colormap='Paired', linewidth=2, fontsize=18)\n",
    "\n",
    "plt.xlabel('Month', fontsize=20)\n",
    "plt.ylabel('Percent Change', fontsize=20)\n",
    "x = df['day'] \n",
    "default_x_ticks = range(len(x))\n",
    "plt.xticks(default_x_ticks, x)\n",
    "\n",
    "\n",
    "plt.show()\n",
    "\n",
    "#need to find a way to fix the time series... "
   ]
  },
  {
   "cell_type": "code",
   "execution_count": 32,
   "id": "1e36791f",
   "metadata": {},
   "outputs": [],
   "source": [
    "# now lets look at it for the predicted price "
   ]
  },
  {
   "cell_type": "code",
   "execution_count": 33,
   "id": "fbe914ba",
   "metadata": {},
   "outputs": [],
   "source": [
    "future_dates_temp= future_dates[['percent change']] "
   ]
  },
  {
   "cell_type": "code",
   "execution_count": 34,
   "id": "85567bee",
   "metadata": {},
   "outputs": [
    {
     "data": {
      "image/png": "[encoded data removed]",
      "text/plain": [
       "<Figure size 432x288 with 1 Axes>"
      ]
     },
     "metadata": {
      "needs_background": "light"
     },
     "output_type": "display_data"
    }
   ],
   "source": [
    "future_dates_temp.plot(colormap='Paired', linewidth=2, fontsize=18)\n",
    "\n",
    "plt.xlabel('Month', fontsize=20)\n",
    "plt.ylabel('Percent Change', fontsize=20)\n",
    "x = df['month'] \n",
    "default_x_ticks = range(len(x))\n",
    "plt.xticks(default_x_ticks, x)\n",
    "\n",
    "plt.show()"
   ]
  },
  {
   "cell_type": "code",
   "execution_count": null,
   "id": "9468712f",
   "metadata": {},
   "outputs": [],
   "source": []
  },
  {
   "cell_type": "code",
   "execution_count": null,
   "id": "078d277c",
   "metadata": {},
   "outputs": [],
   "source": []
  },
  {
   "cell_type": "code",
   "execution_count": 35,
   "id": "d49ecae2",
   "metadata": {},
   "outputs": [
    {
     "data": {
      "text/plain": [
       "109.7699966430664"
      ]
     },
     "execution_count": 35,
     "metadata": {},
     "output_type": "execute_result"
    }
   ],
   "source": [
    "# lets see how much we would have hyothetically had made with a $1000 investment \n",
    "\n",
    "investment = 1000 \n",
    "\n",
    "#based on my projected values 5/6 seems one of the more optimal times to buy \n",
    "#lets get what price it actually is \n",
    "\n",
    "start_updated = datetime.datetime(2022,5,1)\n",
    "end_updated = datetime.datetime(2022,5,6)\n",
    "\n",
    "\n",
    "chosen_sell_date = yf.download(i, start = start_updated, end = end_updated, progress = False) \n",
    "sell_date = chosen_sell_date['Adj Close']\n",
    "sell_date = sell_date[-1]\n",
    "sell_cost = sell_date\n",
    "sell_cost\n"
   ]
  },
  {
   "cell_type": "code",
   "execution_count": 36,
   "id": "92374d51",
   "metadata": {},
   "outputs": [
    {
     "data": {
      "text/plain": [
       "76.08000183105469"
      ]
     },
     "execution_count": 36,
     "metadata": {},
     "output_type": "execute_result"
    }
   ],
   "source": [
    "#what the adjusted close price when we bought it: \n",
    "bought_price"
   ]
  },
  {
   "cell_type": "code",
   "execution_count": 37,
   "id": "5497700c",
   "metadata": {},
   "outputs": [
    {
     "data": {
      "text/plain": [
       "0.3069144196256085"
      ]
     },
     "execution_count": 37,
     "metadata": {},
     "output_type": "execute_result"
    }
   ],
   "source": [
    "#lets get the percent differebce \n",
    "percent_dif = ((sell_cost - bought_price)/(sell_cost)) \n",
    "percent_dif"
   ]
  },
  {
   "cell_type": "code",
   "execution_count": 38,
   "id": "754c9097",
   "metadata": {},
   "outputs": [
    {
     "data": {
      "text/plain": [
       "306.9144196256085"
      ]
     },
     "execution_count": 38,
     "metadata": {},
     "output_type": "execute_result"
    }
   ],
   "source": [
    "profit = (investment * percent_dif)\n",
    "profit"
   ]
  },
  {
   "cell_type": "code",
   "execution_count": null,
   "id": "9638ee73",
   "metadata": {},
   "outputs": [],
   "source": []
  }
 ],
 "metadata": {
  "kernelspec": {
   "display_name": "Python 3 (ipykernel)",
   "language": "python",
   "name": "python3"
  },
  "language_info": {
   "codemirror_mode": {
    "name": "ipython",
    "version": 3
   },
   "file_extension": ".py",
   "mimetype": "text/x-python",
   "name": "python",
   "nbconvert_exporter": "python",
   "pygments_lexer": "ipython3",
   "version": "3.9.7"
  },
  "varInspector": {
   "cols": {
    "lenName": 16,
    "lenType": 16,
    "lenVar": 40
   },
   "kernels_config": {
    "python": {
     "delete_cmd_postfix": "",
     "delete_cmd_prefix": "del ",
     "library": "var_list.py",
     "varRefreshCmd": "print(var_dic_list())"
    },
    "r": {
     "delete_cmd_postfix": ") ",
     "delete_cmd_prefix": "rm(",
     "library": "var_list.r",
     "varRefreshCmd": "cat(var_dic_list()) "
    }
   },
   "position": {
    "height": "262.844px",
    "left": "81px",
    "right": "20px",
    "top": "89px",
    "width": "350px"
   },
   "types_to_exclude": [
    "module",
    "function",
    "builtin_function_or_method",
    "instance",
    "_Feature"
   ],
   "window_display": true
  }
 },
 "nbformat": 4,
 "nbformat_minor": 5
}
